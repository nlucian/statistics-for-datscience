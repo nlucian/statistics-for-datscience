{
 "cells": [
  {
   "cell_type": "code",
   "execution_count": 35,
   "metadata": {
    "ExecuteTime": {
     "end_time": "2020-06-16T11:53:24.438860Z",
     "start_time": "2020-06-16T11:53:24.433942Z"
    }
   },
   "outputs": [],
   "source": [
    "import pandas as pd\n",
    "from pandas import Series\n",
    "\n",
    "import matplotlib\n",
    "import matplotlib.pyplot as plt\n",
    "\n",
    "import numpy as np\n",
    "\n",
    "from sklearn.preprocessing import OneHotEncoder\n",
    "from sklearn.compose import ColumnTransformer\n",
    "from sklearn.preprocessing import LabelEncoder\n",
    "\n",
    "import seaborn as seaborn\n",
    "\n",
    "from sklearn.model_selection import train_test_split\n",
    "from sklearn import linear_model as lm\n",
    "from sklearn import metrics\n",
    "\n",
    "import statsmodels.api as sm\n",
    "import scipy.stats as ss\n",
    "\n",
    "from statsmodels.formula.api import ols"
   ]
  },
  {
   "cell_type": "code",
   "execution_count": 36,
   "metadata": {
    "ExecuteTime": {
     "end_time": "2020-06-16T11:53:24.446739Z",
     "start_time": "2020-06-16T11:53:24.441351Z"
    }
   },
   "outputs": [],
   "source": [
    "def get_targets_grouped_by_factor(target, factor, dataframe):\n",
    "    tupled_factor_and_target =  [z for z in zip(dataframe[factor], dataframe[target])]\n",
    "\n",
    "    unique_levels = sorted(set([i[0] for i in tupled_factor_and_target]))\n",
    "\n",
    "    level_groups = []\n",
    "    for level in unique_levels:\n",
    "        #print(\"Processing Factor: {} | Level: {}\".format(factor, level))\n",
    "        level_subgroup = [x[1] for x in tupled_factor_and_target if x[0] == level]\n",
    "        level_groups.append(level_subgroup)\n",
    "    \n",
    "    return level_groups"
   ]
  },
  {
   "cell_type": "code",
   "execution_count": null,
   "metadata": {},
   "outputs": [],
   "source": []
  },
  {
   "cell_type": "code",
   "execution_count": 37,
   "metadata": {
    "ExecuteTime": {
     "end_time": "2020-06-16T11:53:25.510120Z",
     "start_time": "2020-06-16T11:53:24.449160Z"
    }
   },
   "outputs": [],
   "source": [
    "diamonds_dataset = pd.read_csv('https://raw.githubusercontent.com/nlucian/time-series-analysis/master/diamonds.csv', index_col = 0)"
   ]
  },
  {
   "cell_type": "code",
   "execution_count": 38,
   "metadata": {
    "ExecuteTime": {
     "end_time": "2020-06-16T11:53:25.530128Z",
     "start_time": "2020-06-16T11:53:25.512497Z"
    }
   },
   "outputs": [
    {
     "data": {
      "text/html": [
       "<div>\n",
       "<style scoped>\n",
       "    .dataframe tbody tr th:only-of-type {\n",
       "        vertical-align: middle;\n",
       "    }\n",
       "\n",
       "    .dataframe tbody tr th {\n",
       "        vertical-align: top;\n",
       "    }\n",
       "\n",
       "    .dataframe thead th {\n",
       "        text-align: right;\n",
       "    }\n",
       "</style>\n",
       "<table border=\"1\" class=\"dataframe\">\n",
       "  <thead>\n",
       "    <tr style=\"text-align: right;\">\n",
       "      <th></th>\n",
       "      <th>carat</th>\n",
       "      <th>cut_quality</th>\n",
       "      <th>color</th>\n",
       "      <th>clarity</th>\n",
       "      <th>depth</th>\n",
       "      <th>table</th>\n",
       "      <th>price</th>\n",
       "      <th>length_mm</th>\n",
       "      <th>width_mm</th>\n",
       "      <th>depth_mm</th>\n",
       "    </tr>\n",
       "  </thead>\n",
       "  <tbody>\n",
       "    <tr>\n",
       "      <th>1</th>\n",
       "      <td>0.23</td>\n",
       "      <td>Ideal</td>\n",
       "      <td>E</td>\n",
       "      <td>SI2</td>\n",
       "      <td>61.5</td>\n",
       "      <td>55.0</td>\n",
       "      <td>326</td>\n",
       "      <td>3.95</td>\n",
       "      <td>3.98</td>\n",
       "      <td>2.43</td>\n",
       "    </tr>\n",
       "    <tr>\n",
       "      <th>2</th>\n",
       "      <td>0.21</td>\n",
       "      <td>Premium</td>\n",
       "      <td>E</td>\n",
       "      <td>SI1</td>\n",
       "      <td>59.8</td>\n",
       "      <td>61.0</td>\n",
       "      <td>326</td>\n",
       "      <td>3.89</td>\n",
       "      <td>3.84</td>\n",
       "      <td>2.31</td>\n",
       "    </tr>\n",
       "    <tr>\n",
       "      <th>3</th>\n",
       "      <td>0.23</td>\n",
       "      <td>Good</td>\n",
       "      <td>E</td>\n",
       "      <td>VS1</td>\n",
       "      <td>56.9</td>\n",
       "      <td>65.0</td>\n",
       "      <td>327</td>\n",
       "      <td>4.05</td>\n",
       "      <td>4.07</td>\n",
       "      <td>2.31</td>\n",
       "    </tr>\n",
       "  </tbody>\n",
       "</table>\n",
       "</div>"
      ],
      "text/plain": [
       "   carat cut_quality color clarity  depth  table  price  length_mm  width_mm  \\\n",
       "1   0.23       Ideal     E     SI2   61.5   55.0    326       3.95      3.98   \n",
       "2   0.21     Premium     E     SI1   59.8   61.0    326       3.89      3.84   \n",
       "3   0.23        Good     E     VS1   56.9   65.0    327       4.05      4.07   \n",
       "\n",
       "   depth_mm  \n",
       "1      2.43  \n",
       "2      2.31  \n",
       "3      2.31  "
      ]
     },
     "execution_count": 38,
     "metadata": {},
     "output_type": "execute_result"
    }
   ],
   "source": [
    "diamonds_dataset.head(3)\n",
    "diamonds_dataset = diamonds_dataset.rename(columns = {'cut':'cut_quality', 'x': 'length_mm', 'y': 'width_mm', 'z': 'depth_mm'})\n",
    "diamonds_dataset.head(3)"
   ]
  },
  {
   "cell_type": "code",
   "execution_count": 39,
   "metadata": {
    "ExecuteTime": {
     "end_time": "2020-06-16T11:53:25.546040Z",
     "start_time": "2020-06-16T11:53:25.532460Z"
    }
   },
   "outputs": [
    {
     "data": {
      "text/plain": [
       "carat          False\n",
       "cut_quality    False\n",
       "color          False\n",
       "clarity        False\n",
       "depth          False\n",
       "table          False\n",
       "price          False\n",
       "length_mm      False\n",
       "width_mm       False\n",
       "depth_mm       False\n",
       "dtype: bool"
      ]
     },
     "execution_count": 39,
     "metadata": {},
     "output_type": "execute_result"
    }
   ],
   "source": [
    "diamonds_dataset.isnull().any()"
   ]
  },
  {
   "cell_type": "code",
   "execution_count": 40,
   "metadata": {
    "ExecuteTime": {
     "end_time": "2020-06-16T11:53:25.551755Z",
     "start_time": "2020-06-16T11:53:25.548236Z"
    }
   },
   "outputs": [
    {
     "name": "stdout",
     "output_type": "stream",
     "text": [
      "Total Diamonds 53940\n"
     ]
    }
   ],
   "source": [
    "print(\"Total Diamonds {}\".format(diamonds_dataset.price.count()))"
   ]
  },
  {
   "cell_type": "code",
   "execution_count": 41,
   "metadata": {
    "ExecuteTime": {
     "end_time": "2020-06-16T11:53:25.558723Z",
     "start_time": "2020-06-16T11:53:25.553341Z"
    }
   },
   "outputs": [
    {
     "data": {
      "text/plain": [
       "array(['Ideal', 'Premium', 'Good', 'Very Good', 'Fair'], dtype=object)"
      ]
     },
     "execution_count": 41,
     "metadata": {},
     "output_type": "execute_result"
    }
   ],
   "source": [
    "# fair 5\n",
    "# good = 4\n",
    "# very good 3\n",
    "# premium = 2\n",
    "# ideal = 1\n",
    "diamonds_dataset.cut_quality.unique()"
   ]
  },
  {
   "cell_type": "code",
   "execution_count": 42,
   "metadata": {
    "ExecuteTime": {
     "end_time": "2020-06-16T11:53:25.569138Z",
     "start_time": "2020-06-16T11:53:25.563284Z"
    }
   },
   "outputs": [
    {
     "data": {
      "text/plain": [
       "array(['E', 'I', 'J', 'H', 'F', 'G', 'D'], dtype=object)"
      ]
     },
     "execution_count": 42,
     "metadata": {},
     "output_type": "execute_result"
    }
   ],
   "source": [
    "# https://www.lumeradiamonds.com/diamond-education/diamond-color\n",
    "\n",
    "# D - 1\n",
    "# E - 2\n",
    "# F - 3\n",
    "# G - 4\n",
    "# H - 5\n",
    "# I - 6\n",
    "# J - 7\n",
    "diamonds_dataset.color.unique()"
   ]
  },
  {
   "cell_type": "code",
   "execution_count": 43,
   "metadata": {
    "ExecuteTime": {
     "end_time": "2020-06-16T11:53:25.655784Z",
     "start_time": "2020-06-16T11:53:25.572339Z"
    }
   },
   "outputs": [],
   "source": [
    "diamonds_dataset.loc[diamonds_dataset['cut_quality'] == 'Ideal', 'cut_quality']     = 1\n",
    "diamonds_dataset.loc[diamonds_dataset['cut_quality'] == 'Premium', 'cut_quality']   = 2\n",
    "diamonds_dataset.loc[diamonds_dataset['cut_quality'] == 'Very Good', 'cut_quality'] = 3\n",
    "diamonds_dataset.loc[diamonds_dataset['cut_quality'] == 'Good', 'cut_quality']      = 4\n",
    "diamonds_dataset.loc[diamonds_dataset['cut_quality'] == 'Fair', 'cut_quality']      = 5\n",
    "\n",
    "diamonds_dataset.loc[diamonds_dataset['color'] == 'D', 'color'] = '1'\n",
    "diamonds_dataset.loc[diamonds_dataset['color'] == 'E', 'color'] = '2'\n",
    "diamonds_dataset.loc[diamonds_dataset['color'] == 'F', 'color'] = '3'\n",
    "diamonds_dataset.loc[diamonds_dataset['color'] == 'G', 'color'] = '4'\n",
    "diamonds_dataset.loc[diamonds_dataset['color'] == 'H', 'color'] = '5'\n",
    "diamonds_dataset.loc[diamonds_dataset['color'] == 'I', 'color'] = '6'\n",
    "diamonds_dataset.loc[diamonds_dataset['color'] == 'J', 'color'] = '7'"
   ]
  },
  {
   "cell_type": "code",
   "execution_count": 44,
   "metadata": {
    "ExecuteTime": {
     "end_time": "2020-06-16T11:53:25.663825Z",
     "start_time": "2020-06-16T11:53:25.657440Z"
    }
   },
   "outputs": [
    {
     "data": {
      "text/plain": [
       "array(['SI2', 'SI1', 'VS1', 'VS2', 'VVS2', 'VVS1', 'I1', 'IF'],\n",
       "      dtype=object)"
      ]
     },
     "execution_count": 44,
     "metadata": {},
     "output_type": "execute_result"
    }
   ],
   "source": [
    "diamonds_dataset.clarity.unique()"
   ]
  },
  {
   "cell_type": "code",
   "execution_count": 45,
   "metadata": {
    "ExecuteTime": {
     "end_time": "2020-06-16T11:53:25.670702Z",
     "start_time": "2020-06-16T11:53:25.665931Z"
    }
   },
   "outputs": [],
   "source": [
    "del diamonds_dataset['clarity']"
   ]
  },
  {
   "cell_type": "code",
   "execution_count": 46,
   "metadata": {
    "ExecuteTime": {
     "end_time": "2020-06-16T11:53:25.685823Z",
     "start_time": "2020-06-16T11:53:25.673647Z"
    }
   },
   "outputs": [
    {
     "data": {
      "text/html": [
       "<div>\n",
       "<style scoped>\n",
       "    .dataframe tbody tr th:only-of-type {\n",
       "        vertical-align: middle;\n",
       "    }\n",
       "\n",
       "    .dataframe tbody tr th {\n",
       "        vertical-align: top;\n",
       "    }\n",
       "\n",
       "    .dataframe thead th {\n",
       "        text-align: right;\n",
       "    }\n",
       "</style>\n",
       "<table border=\"1\" class=\"dataframe\">\n",
       "  <thead>\n",
       "    <tr style=\"text-align: right;\">\n",
       "      <th></th>\n",
       "      <th>carat</th>\n",
       "      <th>cut_quality</th>\n",
       "      <th>color</th>\n",
       "      <th>depth</th>\n",
       "      <th>table</th>\n",
       "      <th>price</th>\n",
       "      <th>length_mm</th>\n",
       "      <th>width_mm</th>\n",
       "      <th>depth_mm</th>\n",
       "    </tr>\n",
       "  </thead>\n",
       "  <tbody>\n",
       "    <tr>\n",
       "      <th>1</th>\n",
       "      <td>0.23</td>\n",
       "      <td>1</td>\n",
       "      <td>2</td>\n",
       "      <td>61.5</td>\n",
       "      <td>55.0</td>\n",
       "      <td>326</td>\n",
       "      <td>3.95</td>\n",
       "      <td>3.98</td>\n",
       "      <td>2.43</td>\n",
       "    </tr>\n",
       "    <tr>\n",
       "      <th>2</th>\n",
       "      <td>0.21</td>\n",
       "      <td>2</td>\n",
       "      <td>2</td>\n",
       "      <td>59.8</td>\n",
       "      <td>61.0</td>\n",
       "      <td>326</td>\n",
       "      <td>3.89</td>\n",
       "      <td>3.84</td>\n",
       "      <td>2.31</td>\n",
       "    </tr>\n",
       "    <tr>\n",
       "      <th>3</th>\n",
       "      <td>0.23</td>\n",
       "      <td>4</td>\n",
       "      <td>2</td>\n",
       "      <td>56.9</td>\n",
       "      <td>65.0</td>\n",
       "      <td>327</td>\n",
       "      <td>4.05</td>\n",
       "      <td>4.07</td>\n",
       "      <td>2.31</td>\n",
       "    </tr>\n",
       "    <tr>\n",
       "      <th>4</th>\n",
       "      <td>0.29</td>\n",
       "      <td>2</td>\n",
       "      <td>6</td>\n",
       "      <td>62.4</td>\n",
       "      <td>58.0</td>\n",
       "      <td>334</td>\n",
       "      <td>4.20</td>\n",
       "      <td>4.23</td>\n",
       "      <td>2.63</td>\n",
       "    </tr>\n",
       "    <tr>\n",
       "      <th>5</th>\n",
       "      <td>0.31</td>\n",
       "      <td>4</td>\n",
       "      <td>7</td>\n",
       "      <td>63.3</td>\n",
       "      <td>58.0</td>\n",
       "      <td>335</td>\n",
       "      <td>4.34</td>\n",
       "      <td>4.35</td>\n",
       "      <td>2.75</td>\n",
       "    </tr>\n",
       "  </tbody>\n",
       "</table>\n",
       "</div>"
      ],
      "text/plain": [
       "   carat cut_quality color  depth  table  price  length_mm  width_mm  depth_mm\n",
       "1   0.23           1     2   61.5   55.0    326       3.95      3.98      2.43\n",
       "2   0.21           2     2   59.8   61.0    326       3.89      3.84      2.31\n",
       "3   0.23           4     2   56.9   65.0    327       4.05      4.07      2.31\n",
       "4   0.29           2     6   62.4   58.0    334       4.20      4.23      2.63\n",
       "5   0.31           4     7   63.3   58.0    335       4.34      4.35      2.75"
      ]
     },
     "execution_count": 46,
     "metadata": {},
     "output_type": "execute_result"
    }
   ],
   "source": [
    "diamonds_dataset.head(5)"
   ]
  },
  {
   "cell_type": "code",
   "execution_count": 47,
   "metadata": {
    "ExecuteTime": {
     "end_time": "2020-06-16T11:53:25.700582Z",
     "start_time": "2020-06-16T11:53:25.687448Z"
    }
   },
   "outputs": [
    {
     "data": {
      "text/plain": [
       "carat          float64\n",
       "cut_quality      int64\n",
       "color            int64\n",
       "depth          float64\n",
       "table          float64\n",
       "price            int64\n",
       "length_mm      float64\n",
       "width_mm       float64\n",
       "depth_mm       float64\n",
       "dtype: object"
      ]
     },
     "execution_count": 47,
     "metadata": {},
     "output_type": "execute_result"
    }
   ],
   "source": [
    "diamonds_dataset['cut_quality'] = diamonds_dataset['cut_quality'].astype(int)\n",
    "diamonds_dataset['color'] = diamonds_dataset['color'].astype(int)\n",
    "diamonds_dataset['price'] = diamonds_dataset['price'].astype(int)\n",
    "\n",
    "diamonds_dataset.dtypes"
   ]
  },
  {
   "cell_type": "code",
   "execution_count": 49,
   "metadata": {
    "ExecuteTime": {
     "end_time": "2020-06-16T11:53:25.718697Z",
     "start_time": "2020-06-16T11:53:25.707633Z"
    }
   },
   "outputs": [],
   "source": [
    "X, Y = diamonds_dataset.iloc[:, diamonds_dataset.columns != 'price'].values, diamonds_dataset.iloc[:, diamonds_dataset.columns == 'price']"
   ]
  },
  {
   "cell_type": "code",
   "execution_count": 50,
   "metadata": {
    "ExecuteTime": {
     "end_time": "2020-06-16T11:53:25.725329Z",
     "start_time": "2020-06-16T11:53:25.720624Z"
    }
   },
   "outputs": [
    {
     "data": {
      "text/plain": [
       "carat          float64\n",
       "cut_quality      int64\n",
       "color            int64\n",
       "depth          float64\n",
       "table          float64\n",
       "price            int64\n",
       "length_mm      float64\n",
       "width_mm       float64\n",
       "depth_mm       float64\n",
       "dtype: object"
      ]
     },
     "execution_count": 50,
     "metadata": {},
     "output_type": "execute_result"
    }
   ],
   "source": [
    "diamonds_dataset.dtypes"
   ]
  },
  {
   "cell_type": "code",
   "execution_count": 51,
   "metadata": {
    "ExecuteTime": {
     "end_time": "2020-06-16T11:53:25.730805Z",
     "start_time": "2020-06-16T11:53:25.727185Z"
    }
   },
   "outputs": [
    {
     "name": "stdout",
     "output_type": "stream",
     "text": [
      "53940\n",
      "53940\n"
     ]
    }
   ],
   "source": [
    "print(len(Y))\n",
    "print(len(X))"
   ]
  },
  {
   "cell_type": "code",
   "execution_count": 52,
   "metadata": {
    "ExecuteTime": {
     "end_time": "2020-06-16T11:53:25.748624Z",
     "start_time": "2020-06-16T11:53:25.734012Z"
    }
   },
   "outputs": [
    {
     "name": "stdout",
     "output_type": "stream",
     "text": [
      "326\n",
      "18823\n"
     ]
    }
   ],
   "source": [
    "print(min(diamonds_dataset['price']))\n",
    "print(max(diamonds_dataset['price']))"
   ]
  },
  {
   "cell_type": "code",
   "execution_count": 53,
   "metadata": {
    "ExecuteTime": {
     "end_time": "2020-06-16T11:53:25.761917Z",
     "start_time": "2020-06-16T11:53:25.750686Z"
    }
   },
   "outputs": [
    {
     "data": {
      "text/plain": [
       "326"
      ]
     },
     "execution_count": 53,
     "metadata": {},
     "output_type": "execute_result"
    }
   ],
   "source": [
    "min(diamonds_dataset['price'])"
   ]
  },
  {
   "cell_type": "code",
   "execution_count": 54,
   "metadata": {
    "ExecuteTime": {
     "end_time": "2020-06-16T11:53:25.777079Z",
     "start_time": "2020-06-16T11:53:25.764947Z"
    }
   },
   "outputs": [
    {
     "data": {
      "text/plain": [
       "18823"
      ]
     },
     "execution_count": 54,
     "metadata": {},
     "output_type": "execute_result"
    }
   ],
   "source": [
    "max(diamonds_dataset['price'])"
   ]
  },
  {
   "cell_type": "code",
   "execution_count": 55,
   "metadata": {
    "ExecuteTime": {
     "end_time": "2020-06-16T11:53:25.794157Z",
     "start_time": "2020-06-16T11:53:25.779200Z"
    }
   },
   "outputs": [],
   "source": [
    "bin_values = np.arange(start= min(diamonds_dataset['price']), stop = max(diamonds_dataset['price']), step = 1000)"
   ]
  },
  {
   "cell_type": "code",
   "execution_count": 56,
   "metadata": {
    "ExecuteTime": {
     "end_time": "2020-06-16T11:53:26.028715Z",
     "start_time": "2020-06-16T11:53:25.796009Z"
    }
   },
   "outputs": [
    {
     "data": {
      "text/plain": [
       "<matplotlib.axes._subplots.AxesSubplot at 0x1a1f749b10>"
      ]
     },
     "execution_count": 56,
     "metadata": {},
     "output_type": "execute_result"
    },
    {
     "data": {
      "image/png": "[encoded data removed]",
      "text/plain": [
       "<Figure size 1008x432 with 1 Axes>"
      ]
     },
     "metadata": {
      "needs_background": "light"
     },
     "output_type": "display_data"
    }
   ],
   "source": [
    "diamonds_dataset['price'].hist(bins=bin_values, figsize=[14,6])"
   ]
  },
  {
   "cell_type": "code",
   "execution_count": 57,
   "metadata": {
    "ExecuteTime": {
     "end_time": "2020-06-16T11:53:26.047629Z",
     "start_time": "2020-06-16T11:53:26.034597Z"
    }
   },
   "outputs": [],
   "source": [
    "correlation = diamonds_dataset.corr()"
   ]
  },
  {
   "cell_type": "code",
   "execution_count": 58,
   "metadata": {
    "ExecuteTime": {
     "end_time": "2020-06-16T11:53:26.591714Z",
     "start_time": "2020-06-16T11:53:26.050811Z"
    }
   },
   "outputs": [
    {
     "data": {
      "image/png": "[encoded data removed]",
      "text/plain": [
       "<Figure size 1080x720 with 2 Axes>"
      ]
     },
     "metadata": {
      "needs_background": "light"
     },
     "output_type": "display_data"
    }
   ],
   "source": [
    "fig = matplotlib.pyplot.gcf()\n",
    "fig.set_size_inches(15, 10)\n",
    "ax = seaborn.heatmap(correlation, annot=True, cmap = 'summer')"
   ]
  },
  {
   "cell_type": "code",
   "execution_count": 59,
   "metadata": {
    "ExecuteTime": {
     "end_time": "2020-06-16T11:53:26.604685Z",
     "start_time": "2020-06-16T11:53:26.593516Z"
    }
   },
   "outputs": [
    {
     "name": "stdout",
     "output_type": "stream",
     "text": [
      "10788\n",
      "10788\n",
      "43152\n",
      "43152\n"
     ]
    }
   ],
   "source": [
    "x_data_train, x_data_test, y_data_train, y_data_test = train_test_split(X, Y, test_size = 0.2)\n",
    "\n",
    "print(len(y_data_test))\n",
    "print(len(x_data_test))\n",
    "\n",
    "print(len(x_data_train))\n",
    "print(len(y_data_train))"
   ]
  },
  {
   "cell_type": "code",
   "execution_count": 60,
   "metadata": {
    "ExecuteTime": {
     "end_time": "2020-06-16T11:53:26.611465Z",
     "start_time": "2020-06-16T11:53:26.606631Z"
    }
   },
   "outputs": [],
   "source": [
    "def executeStatsModel(x_train, x_test, y_train, y_test):\n",
    "    model = sm.OLS(y_train, x_train)\n",
    "    fitted_model = model.fit()\n",
    "    \n",
    "    fig = plt.figure(figsize=(12,8))\n",
    "    sm.graphics.plot_partregress_grid(fitted_model, fig=fig)\n",
    "    \n",
    "    prediction = fitted_model.predict(x_test)    \n",
    "    print(\"Mean Squared Error: {}\".format(metrics.mean_squared_error(prediction, y_test)))\n",
    "    print(\"R squared: {}\".format(metrics.r2_score(y_test, prediction)))\n",
    "    \n",
    "    print(\"\")\n",
    "    print(fitted_model.summary())\n",
    "    \n",
    "\n",
    "    return prediction"
   ]
  },
  {
   "cell_type": "code",
   "execution_count": 61,
   "metadata": {
    "ExecuteTime": {
     "end_time": "2020-06-16T11:53:28.911091Z",
     "start_time": "2020-06-16T11:53:26.613230Z"
    },
    "scrolled": true
   },
   "outputs": [
    {
     "name": "stdout",
     "output_type": "stream",
     "text": [
      "Mean Squared Error: 1985123.550963516\n",
      "R squared: 0.8709209215106097\n",
      "\n",
      "                                 OLS Regression Results                                \n",
      "=======================================================================================\n",
      "Dep. Variable:                  price   R-squared (uncentered):                   0.933\n",
      "Model:                            OLS   Adj. R-squared (uncentered):              0.933\n",
      "Method:                 Least Squares   F-statistic:                          7.563e+04\n",
      "Date:                Tue, 16 Jun 2020   Prob (F-statistic):                        0.00\n",
      "Time:                        14:53:27   Log-Likelihood:                     -3.7533e+05\n",
      "No. Observations:               43152   AIC:                                  7.507e+05\n",
      "Df Residuals:                   43144   BIC:                                  7.507e+05\n",
      "Df Model:                           8                                                  \n",
      "Covariance Type:            nonrobust                                                  \n",
      "==============================================================================\n",
      "                 coef    std err          t      P>|t|      [0.025      0.975]\n",
      "------------------------------------------------------------------------------\n",
      "x1          1.045e+04     63.727    164.006      0.000    1.03e+04    1.06e+04\n",
      "x2          -290.2489      6.762    -42.922      0.000    -303.503    -276.995\n",
      "x3          -256.0552      4.297    -59.590      0.000    -264.477    -247.633\n",
      "x4            26.6615      2.574     10.358      0.000      21.616      31.707\n",
      "x5            22.4294      2.860      7.843      0.000      16.824      28.034\n",
      "x6          -956.1165     41.376    -23.108      0.000   -1037.214    -875.019\n",
      "x7           135.9140     24.875      5.464      0.000      87.158     184.670\n",
      "x8          -314.8850     42.100     -7.479      0.000    -397.402    -232.368\n",
      "==============================================================================\n",
      "Omnibus:                     9935.256   Durbin-Watson:                   1.995\n",
      "Prob(Omnibus):                  0.000   Jarque-Bera (JB):           294190.983\n",
      "Skew:                           0.462   Prob(JB):                         0.00\n",
      "Kurtosis:                      15.758   Cond. No.                         844.\n",
      "==============================================================================\n",
      "\n",
      "Warnings:\n",
      "[1] Standard Errors assume that the covariance matrix of the errors is correctly specified.\n"
     ]
    },
    {
     "data": {
      "text/plain": [
       "array([14511.45484636,   519.88564616,   408.73783176, ...,\n",
       "         352.57141415,  7862.59918053,   -56.53836834])"
      ]
     },
     "execution_count": 61,
     "metadata": {},
     "output_type": "execute_result"
    },
    {
     "data": {
      "image/png": "[encoded data removed]",
      "text/plain": [
       "<Figure size 864x576 with 8 Axes>"
      ]
     },
     "metadata": {
      "needs_background": "light"
     },
     "output_type": "display_data"
    }
   ],
   "source": [
    "executeStatsModel(x_data_train, x_data_test, y_data_train, y_data_test)"
   ]
  },
  {
   "cell_type": "code",
   "execution_count": 62,
   "metadata": {
    "ExecuteTime": {
     "end_time": "2020-06-16T11:53:28.916806Z",
     "start_time": "2020-06-16T11:53:28.913066Z"
    }
   },
   "outputs": [],
   "source": [
    "y_data_test = np.log(y_data_test)\n",
    "y_data_train = np.log(y_data_train)"
   ]
  },
  {
   "cell_type": "code",
   "execution_count": 63,
   "metadata": {
    "ExecuteTime": {
     "end_time": "2020-06-16T11:53:28.932333Z",
     "start_time": "2020-06-16T11:53:28.919024Z"
    }
   },
   "outputs": [],
   "source": [
    "bin_values = np.arange(start= min(y_data_train['price']), stop = max(y_data_train['price']), step = 0.1)"
   ]
  },
  {
   "cell_type": "code",
   "execution_count": 64,
   "metadata": {
    "ExecuteTime": {
     "end_time": "2020-06-16T11:53:29.185254Z",
     "start_time": "2020-06-16T11:53:28.936102Z"
    }
   },
   "outputs": [
    {
     "data": {
      "text/plain": [
       "<matplotlib.axes._subplots.AxesSubplot at 0x1a240b4c50>"
      ]
     },
     "execution_count": 64,
     "metadata": {},
     "output_type": "execute_result"
    },
    {
     "data": {
      "image/png": "[encoded data removed]",
      "text/plain": [
       "<Figure size 1008x432 with 1 Axes>"
      ]
     },
     "metadata": {
      "needs_background": "light"
     },
     "output_type": "display_data"
    }
   ],
   "source": [
    "y_data_train['price'].hist(bins=bin_values, figsize=[14,6])"
   ]
  },
  {
   "cell_type": "code",
   "execution_count": 65,
   "metadata": {
    "ExecuteTime": {
     "end_time": "2020-06-16T11:53:31.324165Z",
     "start_time": "2020-06-16T11:53:29.187058Z"
    }
   },
   "outputs": [
    {
     "name": "stdout",
     "output_type": "stream",
     "text": [
      "Mean Squared Error: 0.062144558511871215\n",
      "R squared: 0.9390940243679475\n",
      "\n",
      "                                 OLS Regression Results                                \n",
      "=======================================================================================\n",
      "Dep. Variable:                  price   R-squared (uncentered):                   0.999\n",
      "Model:                            OLS   Adj. R-squared (uncentered):              0.999\n",
      "Method:                 Least Squares   F-statistic:                          4.952e+06\n",
      "Date:                Tue, 16 Jun 2020   Prob (F-statistic):                        0.00\n",
      "Time:                        14:53:29   Log-Likelihood:                         -2937.3\n",
      "No. Observations:               43152   AIC:                                      5891.\n",
      "Df Residuals:                   43144   BIC:                                      5960.\n",
      "Df Model:                           8                                                  \n",
      "Covariance Type:            nonrobust                                                  \n",
      "==============================================================================\n",
      "                 coef    std err          t      P>|t|      [0.025      0.975]\n",
      "------------------------------------------------------------------------------\n",
      "x1            -0.5425      0.011    -47.639      0.000      -0.565      -0.520\n",
      "x2            -0.0396      0.001    -32.760      0.000      -0.042      -0.037\n",
      "x3            -0.0644      0.001    -83.906      0.000      -0.066      -0.063\n",
      "x4             0.0342      0.000     74.400      0.000       0.033       0.035\n",
      "x5            -0.0003      0.001     -0.525      0.600      -0.001       0.001\n",
      "x6             1.0563      0.007    142.855      0.000       1.042       1.071\n",
      "x7             0.0269      0.004      6.050      0.000       0.018       0.036\n",
      "x8             0.0645      0.008      8.567      0.000       0.050       0.079\n",
      "==============================================================================\n",
      "Omnibus:                    45294.043   Durbin-Watson:                   2.007\n",
      "Prob(Omnibus):                  0.000   Jarque-Bera (JB):         35833362.022\n",
      "Skew:                           4.406   Prob(JB):                         0.00\n",
      "Kurtosis:                     143.897   Cond. No.                         844.\n",
      "==============================================================================\n",
      "\n",
      "Warnings:\n",
      "[1] Standard Errors assume that the covariance matrix of the errors is correctly specified.\n"
     ]
    },
    {
     "data": {
      "text/plain": [
       "array([9.81193931, 6.61188902, 6.60231198, ..., 6.70924294, 9.14576728,\n",
       "       6.42837389])"
      ]
     },
     "execution_count": 65,
     "metadata": {},
     "output_type": "execute_result"
    },
    {
     "data": {
      "image/png": "[encoded data removed]",
      "text/plain": [
       "<Figure size 864x576 with 8 Axes>"
      ]
     },
     "metadata": {
      "needs_background": "light"
     },
     "output_type": "display_data"
    }
   ],
   "source": [
    "executeStatsModel(x_data_train, x_data_test, y_data_train, y_data_test)"
   ]
  },
  {
   "cell_type": "code",
   "execution_count": 66,
   "metadata": {
    "ExecuteTime": {
     "end_time": "2020-06-16T11:53:31.329478Z",
     "start_time": "2020-06-16T11:53:31.326120Z"
    }
   },
   "outputs": [],
   "source": [
    "del diamonds_dataset['table']"
   ]
  },
  {
   "cell_type": "code",
   "execution_count": 67,
   "metadata": {
    "ExecuteTime": {
     "end_time": "2020-06-16T11:53:31.337041Z",
     "start_time": "2020-06-16T11:53:31.331505Z"
    }
   },
   "outputs": [],
   "source": [
    "X_column_dropped, Y_column_dropped = diamonds_dataset.iloc[:, diamonds_dataset.columns != 'price'].values, diamonds_dataset.iloc[:, diamonds_dataset.columns == 'price']"
   ]
  },
  {
   "cell_type": "code",
   "execution_count": 68,
   "metadata": {
    "ExecuteTime": {
     "end_time": "2020-06-16T11:53:31.346497Z",
     "start_time": "2020-06-16T11:53:31.338927Z"
    }
   },
   "outputs": [],
   "source": [
    "x_data_train_col_drop, x_data_test_col_drop, y_data_train_col_drop, y_data_test_col_drop = train_test_split(X_column_dropped, Y_column_dropped, test_size = 0.2)"
   ]
  },
  {
   "cell_type": "code",
   "execution_count": 69,
   "metadata": {
    "ExecuteTime": {
     "end_time": "2020-06-16T11:53:33.241481Z",
     "start_time": "2020-06-16T11:53:31.348106Z"
    }
   },
   "outputs": [
    {
     "name": "stdout",
     "output_type": "stream",
     "text": [
      "Mean Squared Error: 0.071932863667963\n",
      "R squared: 0.930674794747574\n",
      "\n",
      "                                 OLS Regression Results                                \n",
      "=======================================================================================\n",
      "Dep. Variable:                  price   R-squared (uncentered):                   0.999\n",
      "Model:                            OLS   Adj. R-squared (uncentered):              0.999\n",
      "Method:                 Least Squares   F-statistic:                          5.753e+06\n",
      "Date:                Tue, 16 Jun 2020   Prob (F-statistic):                        0.00\n",
      "Time:                        14:53:31   Log-Likelihood:                         -2591.5\n",
      "No. Observations:               43152   AIC:                                      5197.\n",
      "Df Residuals:                   43145   BIC:                                      5258.\n",
      "Df Model:                           7                                                  \n",
      "Covariance Type:            nonrobust                                                  \n",
      "==============================================================================\n",
      "                 coef    std err          t      P>|t|      [0.025      0.975]\n",
      "------------------------------------------------------------------------------\n",
      "x1            -0.5467      0.011    -50.208      0.000      -0.568      -0.525\n",
      "x2            -0.0382      0.001    -33.769      0.000      -0.040      -0.036\n",
      "x3            -0.0647      0.001    -84.868      0.000      -0.066      -0.063\n",
      "x4             0.0338      0.000    114.227      0.000       0.033       0.034\n",
      "x5             0.9104      0.010     92.554      0.000       0.891       0.930\n",
      "x6             0.1796      0.009     20.928      0.000       0.163       0.196\n",
      "x7             0.0578      0.007      7.803      0.000       0.043       0.072\n",
      "==============================================================================\n",
      "Omnibus:                    42289.135   Durbin-Watson:                   2.000\n",
      "Prob(Omnibus):                  0.000   Jarque-Bera (JB):         29796816.786\n",
      "Skew:                           3.894   Prob(JB):                         0.00\n",
      "Kurtosis:                     131.497   Cond. No.                         661.\n",
      "==============================================================================\n",
      "\n",
      "Warnings:\n",
      "[1] Standard Errors assume that the covariance matrix of the errors is correctly specified.\n"
     ]
    },
    {
     "data": {
      "text/plain": [
       "array([7.19692241, 8.37092056, 8.49192111, ..., 6.64633937, 8.3668839 ,\n",
       "       7.34471011])"
      ]
     },
     "execution_count": 69,
     "metadata": {},
     "output_type": "execute_result"
    },
    {
     "data": {
      "image/png": "[encoded data removed]",
      "text/plain": [
       "<Figure size 864x576 with 7 Axes>"
      ]
     },
     "metadata": {
      "needs_background": "light"
     },
     "output_type": "display_data"
    }
   ],
   "source": [
    "y_data_test_col_drop = np.log(y_data_test_col_drop)\n",
    "y_data_train_col_drop = np.log(y_data_train_col_drop)\n",
    "\n",
    "executeStatsModel(x_data_train_col_drop, x_data_test_col_drop, y_data_train_col_drop, y_data_test_col_drop)"
   ]
  },
  {
   "cell_type": "code",
   "execution_count": 70,
   "metadata": {
    "ExecuteTime": {
     "end_time": "2020-06-16T11:53:33.254524Z",
     "start_time": "2020-06-16T11:53:33.243405Z"
    }
   },
   "outputs": [
    {
     "data": {
      "text/html": [
       "<div>\n",
       "<style scoped>\n",
       "    .dataframe tbody tr th:only-of-type {\n",
       "        vertical-align: middle;\n",
       "    }\n",
       "\n",
       "    .dataframe tbody tr th {\n",
       "        vertical-align: top;\n",
       "    }\n",
       "\n",
       "    .dataframe thead th {\n",
       "        text-align: right;\n",
       "    }\n",
       "</style>\n",
       "<table border=\"1\" class=\"dataframe\">\n",
       "  <thead>\n",
       "    <tr style=\"text-align: right;\">\n",
       "      <th></th>\n",
       "      <th>carat</th>\n",
       "      <th>cut_quality</th>\n",
       "      <th>color</th>\n",
       "      <th>depth</th>\n",
       "      <th>price</th>\n",
       "      <th>length_mm</th>\n",
       "      <th>width_mm</th>\n",
       "      <th>depth_mm</th>\n",
       "    </tr>\n",
       "  </thead>\n",
       "  <tbody>\n",
       "    <tr>\n",
       "      <th>1</th>\n",
       "      <td>0.23</td>\n",
       "      <td>1</td>\n",
       "      <td>2</td>\n",
       "      <td>61.5</td>\n",
       "      <td>326</td>\n",
       "      <td>3.95</td>\n",
       "      <td>3.98</td>\n",
       "      <td>2.43</td>\n",
       "    </tr>\n",
       "    <tr>\n",
       "      <th>2</th>\n",
       "      <td>0.21</td>\n",
       "      <td>2</td>\n",
       "      <td>2</td>\n",
       "      <td>59.8</td>\n",
       "      <td>326</td>\n",
       "      <td>3.89</td>\n",
       "      <td>3.84</td>\n",
       "      <td>2.31</td>\n",
       "    </tr>\n",
       "    <tr>\n",
       "      <th>3</th>\n",
       "      <td>0.23</td>\n",
       "      <td>4</td>\n",
       "      <td>2</td>\n",
       "      <td>56.9</td>\n",
       "      <td>327</td>\n",
       "      <td>4.05</td>\n",
       "      <td>4.07</td>\n",
       "      <td>2.31</td>\n",
       "    </tr>\n",
       "    <tr>\n",
       "      <th>4</th>\n",
       "      <td>0.29</td>\n",
       "      <td>2</td>\n",
       "      <td>6</td>\n",
       "      <td>62.4</td>\n",
       "      <td>334</td>\n",
       "      <td>4.20</td>\n",
       "      <td>4.23</td>\n",
       "      <td>2.63</td>\n",
       "    </tr>\n",
       "    <tr>\n",
       "      <th>5</th>\n",
       "      <td>0.31</td>\n",
       "      <td>4</td>\n",
       "      <td>7</td>\n",
       "      <td>63.3</td>\n",
       "      <td>335</td>\n",
       "      <td>4.34</td>\n",
       "      <td>4.35</td>\n",
       "      <td>2.75</td>\n",
       "    </tr>\n",
       "  </tbody>\n",
       "</table>\n",
       "</div>"
      ],
      "text/plain": [
       "   carat  cut_quality  color  depth  price  length_mm  width_mm  depth_mm\n",
       "1   0.23            1      2   61.5    326       3.95      3.98      2.43\n",
       "2   0.21            2      2   59.8    326       3.89      3.84      2.31\n",
       "3   0.23            4      2   56.9    327       4.05      4.07      2.31\n",
       "4   0.29            2      6   62.4    334       4.20      4.23      2.63\n",
       "5   0.31            4      7   63.3    335       4.34      4.35      2.75"
      ]
     },
     "execution_count": 70,
     "metadata": {},
     "output_type": "execute_result"
    }
   ],
   "source": [
    "diamonds_dataset.head(5)"
   ]
  },
  {
   "cell_type": "code",
   "execution_count": 71,
   "metadata": {
    "ExecuteTime": {
     "end_time": "2020-06-16T11:53:33.265798Z",
     "start_time": "2020-06-16T11:53:33.256392Z"
    }
   },
   "outputs": [
    {
     "data": {
      "text/html": [
       "<div>\n",
       "<style scoped>\n",
       "    .dataframe tbody tr th:only-of-type {\n",
       "        vertical-align: middle;\n",
       "    }\n",
       "\n",
       "    .dataframe tbody tr th {\n",
       "        vertical-align: top;\n",
       "    }\n",
       "\n",
       "    .dataframe thead th {\n",
       "        text-align: right;\n",
       "    }\n",
       "</style>\n",
       "<table border=\"1\" class=\"dataframe\">\n",
       "  <thead>\n",
       "    <tr style=\"text-align: right;\">\n",
       "      <th></th>\n",
       "      <th>carat</th>\n",
       "      <th>cut_quality</th>\n",
       "      <th>color</th>\n",
       "      <th>depth</th>\n",
       "      <th>price</th>\n",
       "      <th>length_mm</th>\n",
       "      <th>width_mm</th>\n",
       "      <th>depth_mm</th>\n",
       "    </tr>\n",
       "  </thead>\n",
       "  <tbody>\n",
       "    <tr>\n",
       "      <th>1</th>\n",
       "      <td>0.23</td>\n",
       "      <td>1</td>\n",
       "      <td>2</td>\n",
       "      <td>61.5</td>\n",
       "      <td>326</td>\n",
       "      <td>3.95</td>\n",
       "      <td>3.98</td>\n",
       "      <td>2.43</td>\n",
       "    </tr>\n",
       "    <tr>\n",
       "      <th>2</th>\n",
       "      <td>0.21</td>\n",
       "      <td>2</td>\n",
       "      <td>2</td>\n",
       "      <td>59.8</td>\n",
       "      <td>326</td>\n",
       "      <td>3.89</td>\n",
       "      <td>3.84</td>\n",
       "      <td>2.31</td>\n",
       "    </tr>\n",
       "  </tbody>\n",
       "</table>\n",
       "</div>"
      ],
      "text/plain": [
       "   carat  cut_quality  color  depth  price  length_mm  width_mm  depth_mm\n",
       "1   0.23            1      2   61.5    326       3.95      3.98      2.43\n",
       "2   0.21            2      2   59.8    326       3.89      3.84      2.31"
      ]
     },
     "execution_count": 71,
     "metadata": {},
     "output_type": "execute_result"
    }
   ],
   "source": [
    "diamonds_dataset.head(2)"
   ]
  },
  {
   "cell_type": "code",
   "execution_count": 72,
   "metadata": {
    "ExecuteTime": {
     "end_time": "2020-06-16T11:53:33.357518Z",
     "start_time": "2020-06-16T11:53:33.267565Z"
    }
   },
   "outputs": [],
   "source": [
    "factor_cut_quality_grp = get_targets_grouped_by_factor('price', 'cut_quality', diamonds_dataset)\n",
    "factor_color_grp = get_targets_grouped_by_factor('color', 'cut_quality', diamonds_dataset)"
   ]
  },
  {
   "cell_type": "code",
   "execution_count": 73,
   "metadata": {
    "ExecuteTime": {
     "end_time": "2020-06-16T11:53:33.362910Z",
     "start_time": "2020-06-16T11:53:33.359521Z"
    }
   },
   "outputs": [
    {
     "data": {
      "text/plain": [
       "5"
      ]
     },
     "execution_count": 73,
     "metadata": {},
     "output_type": "execute_result"
    }
   ],
   "source": [
    "len(factor_cut_quality_grp)"
   ]
  },
  {
   "cell_type": "code",
   "execution_count": 74,
   "metadata": {
    "ExecuteTime": {
     "end_time": "2020-06-16T11:53:33.395089Z",
     "start_time": "2020-06-16T11:53:33.364471Z"
    }
   },
   "outputs": [
    {
     "name": "stdout",
     "output_type": "stream",
     "text": [
      "factor_1 - cut_quality BartlettResult(statistic=406.6960562289963, pvalue=9.94131729362807e-87)\n",
      "factor_2 - color_grp BartlettResult(statistic=37.23867630306004, pvalue=1.6084535985684938e-07)\n"
     ]
    }
   ],
   "source": [
    "print(\"factor_1 - cut_quality {}\".format(ss.bartlett(*factor_cut_quality_grp)))\n",
    "print(\"factor_2 - color_grp {}\".format(ss.bartlett(*factor_color_grp)))"
   ]
  },
  {
   "cell_type": "code",
   "execution_count": 75,
   "metadata": {
    "ExecuteTime": {
     "end_time": "2020-06-16T11:53:33.435410Z",
     "start_time": "2020-06-16T11:53:33.397837Z"
    }
   },
   "outputs": [
    {
     "name": "stdout",
     "output_type": "stream",
     "text": [
      "factor_1 - cut_quality LeveneResult(statistic=123.59529396129993, pvalue=3.360146858232803e-105)\n",
      "factor_2 - color_grp LeveneResult(statistic=14.383102882970482, pvalue=9.703535562677078e-12)\n"
     ]
    }
   ],
   "source": [
    "print(\"factor_1 - cut_quality {}\".format(ss.levene(*factor_cut_quality_grp)))\n",
    "print(\"factor_2 - color_grp {}\".format(ss.levene(*factor_color_grp)))"
   ]
  },
  {
   "cell_type": "code",
   "execution_count": 76,
   "metadata": {
    "ExecuteTime": {
     "end_time": "2020-06-16T11:53:33.460213Z",
     "start_time": "2020-06-16T11:53:33.438497Z"
    }
   },
   "outputs": [
    {
     "data": {
      "text/html": [
       "<div>\n",
       "<style scoped>\n",
       "    .dataframe tbody tr th:only-of-type {\n",
       "        vertical-align: middle;\n",
       "    }\n",
       "\n",
       "    .dataframe tbody tr th {\n",
       "        vertical-align: top;\n",
       "    }\n",
       "\n",
       "    .dataframe thead th {\n",
       "        text-align: right;\n",
       "    }\n",
       "</style>\n",
       "<table border=\"1\" class=\"dataframe\">\n",
       "  <thead>\n",
       "    <tr style=\"text-align: right;\">\n",
       "      <th></th>\n",
       "      <th>carat</th>\n",
       "      <th>cut_quality</th>\n",
       "      <th>color</th>\n",
       "      <th>depth</th>\n",
       "      <th>price</th>\n",
       "      <th>length_mm</th>\n",
       "      <th>width_mm</th>\n",
       "      <th>depth_mm</th>\n",
       "    </tr>\n",
       "  </thead>\n",
       "  <tbody>\n",
       "    <tr>\n",
       "      <th>1</th>\n",
       "      <td>0.23</td>\n",
       "      <td>1</td>\n",
       "      <td>2</td>\n",
       "      <td>61.5</td>\n",
       "      <td>2075.0</td>\n",
       "      <td>3.95</td>\n",
       "      <td>3.98</td>\n",
       "      <td>2.43</td>\n",
       "    </tr>\n",
       "    <tr>\n",
       "      <th>2</th>\n",
       "      <td>0.21</td>\n",
       "      <td>2</td>\n",
       "      <td>2</td>\n",
       "      <td>59.8</td>\n",
       "      <td>2075.0</td>\n",
       "      <td>3.89</td>\n",
       "      <td>3.84</td>\n",
       "      <td>2.31</td>\n",
       "    </tr>\n",
       "    <tr>\n",
       "      <th>3</th>\n",
       "      <td>0.23</td>\n",
       "      <td>4</td>\n",
       "      <td>2</td>\n",
       "      <td>56.9</td>\n",
       "      <td>2074.0</td>\n",
       "      <td>4.05</td>\n",
       "      <td>4.07</td>\n",
       "      <td>2.31</td>\n",
       "    </tr>\n",
       "  </tbody>\n",
       "</table>\n",
       "</div>"
      ],
      "text/plain": [
       "   carat  cut_quality  color  depth   price  length_mm  width_mm  depth_mm\n",
       "1   0.23            1      2   61.5  2075.0       3.95      3.98      2.43\n",
       "2   0.21            2      2   59.8  2075.0       3.89      3.84      2.31\n",
       "3   0.23            4      2   56.9  2074.0       4.05      4.07      2.31"
      ]
     },
     "execution_count": 76,
     "metadata": {},
     "output_type": "execute_result"
    }
   ],
   "source": [
    "dd_no_median = diamonds_dataset.copy()\n",
    "\n",
    "# https://www.graphpad.com/support/faq/what-to-do-when-data-fail-tests-for-homogeneity-of-variance/\n",
    "dd_no_median['price'] = np.abs(diamonds_dataset['price'] - pd.DataFrame.median(diamonds_dataset['price']))\n",
    "dd_no_median.head(3)"
   ]
  },
  {
   "cell_type": "code",
   "execution_count": 77,
   "metadata": {
    "ExecuteTime": {
     "end_time": "2020-06-16T11:53:33.570824Z",
     "start_time": "2020-06-16T11:53:33.462154Z"
    }
   },
   "outputs": [],
   "source": [
    "factor_cut_quality_grp = get_targets_grouped_by_factor('price', 'cut_quality', dd_no_median)\n",
    "factor_color_grp = get_targets_grouped_by_factor('price', 'color', dd_no_median)"
   ]
  },
  {
   "cell_type": "code",
   "execution_count": 78,
   "metadata": {
    "ExecuteTime": {
     "end_time": "2020-06-16T11:53:33.597731Z",
     "start_time": "2020-06-16T11:53:33.573807Z"
    }
   },
   "outputs": [
    {
     "name": "stdout",
     "output_type": "stream",
     "text": [
      "factor_1 - cut_quality BartlettResult(statistic=587.4479499778415, pvalue=8.06703470987798e-126)\n",
      "factor_2 - color_grp BartlettResult(statistic=2056.01259446102, pvalue=0.0)\n"
     ]
    }
   ],
   "source": [
    "print(\"factor_1 - cut_quality {}\".format(ss.bartlett(*factor_cut_quality_grp)))\n",
    "print(\"factor_2 - color_grp {}\".format(ss.bartlett(*factor_color_grp)))"
   ]
  },
  {
   "cell_type": "code",
   "execution_count": 79,
   "metadata": {
    "ExecuteTime": {
     "end_time": "2020-06-16T11:53:33.611037Z",
     "start_time": "2020-06-16T11:53:33.600411Z"
    }
   },
   "outputs": [
    {
     "data": {
      "text/plain": [
       "5"
      ]
     },
     "execution_count": 79,
     "metadata": {},
     "output_type": "execute_result"
    }
   ],
   "source": [
    "dd_no_median = dd_no_median[['cut_quality', 'color', 'price']]\n",
    "len(factor_cut_quality_grp)"
   ]
  },
  {
   "cell_type": "code",
   "execution_count": 80,
   "metadata": {
    "ExecuteTime": {
     "end_time": "2020-06-16T11:53:33.880025Z",
     "start_time": "2020-06-16T11:53:33.612910Z"
    }
   },
   "outputs": [],
   "source": [
    "# https://www.quora.com/Can-we-use-the-ANOVA-test-if-the-homogeneity-condition-is-rejected-through-the-Bartlett-test\n",
    "mlm = ols('price ~ C(cut_quality)', data=dd_no_median).fit()"
   ]
  },
  {
   "cell_type": "code",
   "execution_count": 81,
   "metadata": {
    "ExecuteTime": {
     "end_time": "2020-06-16T11:53:33.903187Z",
     "start_time": "2020-06-16T11:53:33.882203Z"
    }
   },
   "outputs": [
    {
     "data": {
      "text/html": [
       "<div>\n",
       "<style scoped>\n",
       "    .dataframe tbody tr th:only-of-type {\n",
       "        vertical-align: middle;\n",
       "    }\n",
       "\n",
       "    .dataframe tbody tr th {\n",
       "        vertical-align: top;\n",
       "    }\n",
       "\n",
       "    .dataframe thead th {\n",
       "        text-align: right;\n",
       "    }\n",
       "</style>\n",
       "<table border=\"1\" class=\"dataframe\">\n",
       "  <thead>\n",
       "    <tr style=\"text-align: right;\">\n",
       "      <th></th>\n",
       "      <th>sum_sq</th>\n",
       "      <th>df</th>\n",
       "      <th>F</th>\n",
       "      <th>PR(&gt;F)</th>\n",
       "    </tr>\n",
       "  </thead>\n",
       "  <tbody>\n",
       "    <tr>\n",
       "      <th>C(cut_quality)</th>\n",
       "      <td>4.758131e+09</td>\n",
       "      <td>4.0</td>\n",
       "      <td>115.59364</td>\n",
       "      <td>2.436200e-98</td>\n",
       "    </tr>\n",
       "    <tr>\n",
       "      <th>Residual</th>\n",
       "      <td>5.550257e+11</td>\n",
       "      <td>53935.0</td>\n",
       "      <td>NaN</td>\n",
       "      <td>NaN</td>\n",
       "    </tr>\n",
       "  </tbody>\n",
       "</table>\n",
       "</div>"
      ],
      "text/plain": [
       "                      sum_sq       df          F        PR(>F)\n",
       "C(cut_quality)  4.758131e+09      4.0  115.59364  2.436200e-98\n",
       "Residual        5.550257e+11  53935.0        NaN           NaN"
      ]
     },
     "execution_count": 81,
     "metadata": {},
     "output_type": "execute_result"
    }
   ],
   "source": [
    "anova_result = sm.stats.anova_lm(mlm, typ=2) \n",
    "anova_result"
   ]
  },
  {
   "cell_type": "code",
   "execution_count": 82,
   "metadata": {
    "ExecuteTime": {
     "end_time": "2020-06-16T11:53:34.212677Z",
     "start_time": "2020-06-16T11:53:33.905766Z"
    }
   },
   "outputs": [],
   "source": [
    "mlm = ols('price ~ C(color)', data=dd_no_median).fit()"
   ]
  },
  {
   "cell_type": "code",
   "execution_count": 83,
   "metadata": {
    "ExecuteTime": {
     "end_time": "2020-06-16T11:53:34.230885Z",
     "start_time": "2020-06-16T11:53:34.214698Z"
    }
   },
   "outputs": [
    {
     "data": {
      "text/html": [
       "<div>\n",
       "<style scoped>\n",
       "    .dataframe tbody tr th:only-of-type {\n",
       "        vertical-align: middle;\n",
       "    }\n",
       "\n",
       "    .dataframe tbody tr th {\n",
       "        vertical-align: top;\n",
       "    }\n",
       "\n",
       "    .dataframe thead th {\n",
       "        text-align: right;\n",
       "    }\n",
       "</style>\n",
       "<table border=\"1\" class=\"dataframe\">\n",
       "  <thead>\n",
       "    <tr style=\"text-align: right;\">\n",
       "      <th></th>\n",
       "      <th>sum_sq</th>\n",
       "      <th>df</th>\n",
       "      <th>F</th>\n",
       "      <th>PR(&gt;F)</th>\n",
       "    </tr>\n",
       "  </thead>\n",
       "  <tbody>\n",
       "    <tr>\n",
       "      <th>C(color)</th>\n",
       "      <td>1.476852e+10</td>\n",
       "      <td>6.0</td>\n",
       "      <td>243.57444</td>\n",
       "      <td>1.900774e-308</td>\n",
       "    </tr>\n",
       "    <tr>\n",
       "      <th>Residual</th>\n",
       "      <td>5.450153e+11</td>\n",
       "      <td>53933.0</td>\n",
       "      <td>NaN</td>\n",
       "      <td>NaN</td>\n",
       "    </tr>\n",
       "  </tbody>\n",
       "</table>\n",
       "</div>"
      ],
      "text/plain": [
       "                sum_sq       df          F         PR(>F)\n",
       "C(color)  1.476852e+10      6.0  243.57444  1.900774e-308\n",
       "Residual  5.450153e+11  53933.0        NaN            NaN"
      ]
     },
     "execution_count": 83,
     "metadata": {},
     "output_type": "execute_result"
    }
   ],
   "source": [
    "anova_result = sm.stats.anova_lm(mlm, typ=2) \n",
    "anova_result"
   ]
  },
  {
   "cell_type": "code",
   "execution_count": null,
   "metadata": {},
   "outputs": [],
   "source": []
  }
 ],
 "metadata": {
  "kernelspec": {
   "display_name": "Python 3",
   "language": "python",
   "name": "python3"
  },
  "language_info": {
   "codemirror_mode": {
    "name": "ipython",
    "version": 3
   },
   "file_extension": ".py",
   "mimetype": "text/x-python",
   "name": "python",
   "nbconvert_exporter": "python",
   "pygments_lexer": "ipython3",
   "version": "3.7.7"
  }
 },
 "nbformat": 4,
 "nbformat_minor": 4
}
