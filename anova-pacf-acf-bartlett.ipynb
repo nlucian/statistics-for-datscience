{
 "cells": [
  {
   "cell_type": "code",
   "execution_count": 51,
   "metadata": {
    "ExecuteTime": {
     "end_time": "2020-06-14T15:44:33.183229Z",
     "start_time": "2020-06-14T15:44:33.178845Z"
    }
   },
   "outputs": [],
   "source": [
    "import random as r\n",
    "import pandas as pd\n",
    "import statsmodels.api as sm\n",
    "from statsmodels.formula.api import ols\n",
    "import scipy.stats as ss\n",
    "from scipy import stats\n",
    "import numpy as np\n",
    "from itertools import groupby\n",
    "import matplotlib.pyplot as plt\n",
    "\n",
    "import matplotlib"
   ]
  },
  {
   "cell_type": "code",
   "execution_count": 2,
   "metadata": {
    "ExecuteTime": {
     "end_time": "2020-06-11T23:42:12.664119Z",
     "start_time": "2020-06-11T23:42:12.661341Z"
    }
   },
   "outputs": [],
   "source": [
    "factor_1 = 'GenderID'\n",
    "factor_2 = 'MarriedID'\n",
    "target   = 'PayRate'"
   ]
  },
  {
   "cell_type": "code",
   "execution_count": 3,
   "metadata": {
    "ExecuteTime": {
     "end_time": "2020-06-11T23:42:12.670469Z",
     "start_time": "2020-06-11T23:42:12.667143Z"
    }
   },
   "outputs": [],
   "source": [
    "def flattenize(list_of_lists):\n",
    "    return [item for sublist in list_of_lists for item in sublist]"
   ]
  },
  {
   "cell_type": "code",
   "execution_count": 4,
   "metadata": {
    "ExecuteTime": {
     "end_time": "2020-06-11T23:42:12.678312Z",
     "start_time": "2020-06-11T23:42:12.673482Z"
    }
   },
   "outputs": [],
   "source": [
    "def get_targets_grouped_by_factor(target, factor, dataframe):\n",
    "    tupled_factor_and_target =  [z for z in zip(dataframe[factor], dataframe[target])]\n",
    "\n",
    "    unique_levels = sorted(set([i[0] for i in tupled_factor_and_target]))\n",
    "\n",
    "    level_groups = []\n",
    "    for level in unique_levels:\n",
    "        print(\"Processing Factor: {} | Level: {}\".format(factor, level))\n",
    "        level_subgroup = [x[1] for x in tupled_factor_and_target if x[0] == level]\n",
    "        level_groups.append(level_subgroup)\n",
    "    \n",
    "    return level_groups"
   ]
  },
  {
   "cell_type": "code",
   "execution_count": 5,
   "metadata": {
    "ExecuteTime": {
     "end_time": "2020-06-11T23:42:12.692753Z",
     "start_time": "2020-06-11T23:42:12.680221Z"
    }
   },
   "outputs": [
    {
     "data": {
      "text/plain": [
       "401"
      ]
     },
     "execution_count": 5,
     "metadata": {},
     "output_type": "execute_result"
    }
   ],
   "source": [
    "hr_ds = pd.read_csv('hr_dataset.csv')\n",
    "len(hr_ds)"
   ]
  },
  {
   "cell_type": "code",
   "execution_count": 6,
   "metadata": {
    "ExecuteTime": {
     "end_time": "2020-06-11T23:42:12.700602Z",
     "start_time": "2020-06-11T23:42:12.694199Z"
    }
   },
   "outputs": [
    {
     "data": {
      "text/plain": [
       "310"
      ]
     },
     "execution_count": 6,
     "metadata": {},
     "output_type": "execute_result"
    }
   ],
   "source": [
    "hr_ds = hr_ds.dropna(how='all')\n",
    "len(hr_ds)"
   ]
  },
  {
   "cell_type": "code",
   "execution_count": 7,
   "metadata": {
    "ExecuteTime": {
     "end_time": "2020-06-11T23:42:12.728739Z",
     "start_time": "2020-06-11T23:42:12.702361Z"
    }
   },
   "outputs": [
    {
     "data": {
      "text/html": [
       "<div>\n",
       "<style scoped>\n",
       "    .dataframe tbody tr th:only-of-type {\n",
       "        vertical-align: middle;\n",
       "    }\n",
       "\n",
       "    .dataframe tbody tr th {\n",
       "        vertical-align: top;\n",
       "    }\n",
       "\n",
       "    .dataframe thead th {\n",
       "        text-align: right;\n",
       "    }\n",
       "</style>\n",
       "<table border=\"1\" class=\"dataframe\">\n",
       "  <thead>\n",
       "    <tr style=\"text-align: right;\">\n",
       "      <th></th>\n",
       "      <th>Employee_Name</th>\n",
       "      <th>EmpID</th>\n",
       "      <th>MarriedID</th>\n",
       "      <th>MaritalStatusID</th>\n",
       "      <th>GenderID</th>\n",
       "      <th>EmpStatusID</th>\n",
       "      <th>DeptID</th>\n",
       "      <th>PerfScoreID</th>\n",
       "      <th>FromDiversityJobFairID</th>\n",
       "      <th>PayRate</th>\n",
       "      <th>...</th>\n",
       "      <th>Department</th>\n",
       "      <th>ManagerName</th>\n",
       "      <th>ManagerID</th>\n",
       "      <th>RecruitmentSource</th>\n",
       "      <th>PerformanceScore</th>\n",
       "      <th>EngagementSurvey</th>\n",
       "      <th>EmpSatisfaction</th>\n",
       "      <th>SpecialProjectsCount</th>\n",
       "      <th>LastPerformanceReview_Date</th>\n",
       "      <th>DaysLateLast30</th>\n",
       "    </tr>\n",
       "  </thead>\n",
       "  <tbody>\n",
       "    <tr>\n",
       "      <th>308</th>\n",
       "      <td>South, Joe</td>\n",
       "      <td>1.308061e+09</td>\n",
       "      <td>0.0</td>\n",
       "      <td>0.0</td>\n",
       "      <td>1.0</td>\n",
       "      <td>1.0</td>\n",
       "      <td>3.0</td>\n",
       "      <td>3.0</td>\n",
       "      <td>0.0</td>\n",
       "      <td>53.0</td>\n",
       "      <td>...</td>\n",
       "      <td>IT/IS</td>\n",
       "      <td>Peter Monroe</td>\n",
       "      <td>7.0</td>\n",
       "      <td>Employee Referral</td>\n",
       "      <td>Fully Meets</td>\n",
       "      <td>5.00</td>\n",
       "      <td>3.0</td>\n",
       "      <td>4.0</td>\n",
       "      <td>1/2/2019</td>\n",
       "      <td>0.0</td>\n",
       "    </tr>\n",
       "    <tr>\n",
       "      <th>309</th>\n",
       "      <td>Warfield, Sarah</td>\n",
       "      <td>1.301052e+09</td>\n",
       "      <td>0.0</td>\n",
       "      <td>4.0</td>\n",
       "      <td>0.0</td>\n",
       "      <td>1.0</td>\n",
       "      <td>3.0</td>\n",
       "      <td>3.0</td>\n",
       "      <td>0.0</td>\n",
       "      <td>55.2</td>\n",
       "      <td>...</td>\n",
       "      <td>IT/IS</td>\n",
       "      <td>Peter Monroe</td>\n",
       "      <td>7.0</td>\n",
       "      <td>Employee Referral</td>\n",
       "      <td>Fully Meets</td>\n",
       "      <td>1.06</td>\n",
       "      <td>4.0</td>\n",
       "      <td>8.0</td>\n",
       "      <td>2/5/2019</td>\n",
       "      <td>0.0</td>\n",
       "    </tr>\n",
       "  </tbody>\n",
       "</table>\n",
       "<p>2 rows × 35 columns</p>\n",
       "</div>"
      ],
      "text/plain": [
       "       Employee_Name         EmpID  MarriedID  MaritalStatusID  GenderID  \\\n",
       "308       South, Joe  1.308061e+09        0.0              0.0       1.0   \n",
       "309  Warfield, Sarah  1.301052e+09        0.0              4.0       0.0   \n",
       "\n",
       "     EmpStatusID  DeptID  PerfScoreID  FromDiversityJobFairID  PayRate  ...  \\\n",
       "308          1.0     3.0          3.0                     0.0     53.0  ...   \n",
       "309          1.0     3.0          3.0                     0.0     55.2  ...   \n",
       "\n",
       "     Department   ManagerName ManagerID  RecruitmentSource  PerformanceScore  \\\n",
       "308       IT/IS  Peter Monroe       7.0  Employee Referral       Fully Meets   \n",
       "309       IT/IS  Peter Monroe       7.0  Employee Referral       Fully Meets   \n",
       "\n",
       "    EngagementSurvey EmpSatisfaction SpecialProjectsCount  \\\n",
       "308             5.00             3.0                  4.0   \n",
       "309             1.06             4.0                  8.0   \n",
       "\n",
       "    LastPerformanceReview_Date DaysLateLast30  \n",
       "308                   1/2/2019            0.0  \n",
       "309                   2/5/2019            0.0  \n",
       "\n",
       "[2 rows x 35 columns]"
      ]
     },
     "execution_count": 7,
     "metadata": {},
     "output_type": "execute_result"
    }
   ],
   "source": [
    "hr_ds.tail(2)"
   ]
  },
  {
   "cell_type": "code",
   "execution_count": 8,
   "metadata": {
    "ExecuteTime": {
     "end_time": "2020-06-11T23:42:12.735874Z",
     "start_time": "2020-06-11T23:42:12.732788Z"
    }
   },
   "outputs": [],
   "source": [
    "hr_ds_for_plots = hr_ds.copy()"
   ]
  },
  {
   "cell_type": "code",
   "execution_count": 9,
   "metadata": {
    "ExecuteTime": {
     "end_time": "2020-06-11T23:42:12.748862Z",
     "start_time": "2020-06-11T23:42:12.739558Z"
    }
   },
   "outputs": [],
   "source": [
    "hr_ds_for_plots.loc[hr_ds_for_plots['GenderID'] == 1, 'GenderID']   = 'male'\n",
    "hr_ds_for_plots.loc[hr_ds_for_plots['GenderID'] == 0, 'GenderID']   = 'female'"
   ]
  },
  {
   "cell_type": "code",
   "execution_count": 10,
   "metadata": {
    "ExecuteTime": {
     "end_time": "2020-06-11T23:42:12.758105Z",
     "start_time": "2020-06-11T23:42:12.752045Z"
    }
   },
   "outputs": [
    {
     "data": {
      "text/plain": [
       "MarriedID    float64\n",
       "GenderID     float64\n",
       "PayRate      float64\n",
       "dtype: object"
      ]
     },
     "execution_count": 10,
     "metadata": {},
     "output_type": "execute_result"
    }
   ],
   "source": [
    "ds_to_evaluate = hr_ds.copy()\n",
    "ds_to_evaluate = ds_to_evaluate[[factor_2, factor_1, target]]\n",
    "ds_to_evaluate.dtypes"
   ]
  },
  {
   "cell_type": "code",
   "execution_count": 11,
   "metadata": {
    "ExecuteTime": {
     "end_time": "2020-06-11T23:42:12.765572Z",
     "start_time": "2020-06-11T23:42:12.760076Z"
    }
   },
   "outputs": [
    {
     "name": "stdout",
     "output_type": "stream",
     "text": [
      "Null values in MarriedID: False\n",
      "Null values in PayRate: False\n",
      "Null values in GenderID: False\n"
     ]
    }
   ],
   "source": [
    "print(\"Null values in MarriedID: {}\".format(ds_to_evaluate.MarriedID.isnull().values.any()))\n",
    "print(\"Null values in PayRate: {}\".format(ds_to_evaluate.PayRate.isnull().values.any()))\n",
    "print(\"Null values in GenderID: {}\".format(ds_to_evaluate.GenderID.isnull().values.any()))"
   ]
  },
  {
   "cell_type": "code",
   "execution_count": 12,
   "metadata": {
    "ExecuteTime": {
     "end_time": "2020-06-11T23:42:12.935842Z",
     "start_time": "2020-06-11T23:42:12.767584Z"
    }
   },
   "outputs": [
    {
     "data": {
      "text/plain": [
       "<matplotlib.axes._subplots.AxesSubplot at 0x1a1ee37190>"
      ]
     },
     "execution_count": 12,
     "metadata": {},
     "output_type": "execute_result"
    },
    {
     "data": {
      "image/png": "[encoded data removed]",
      "text/plain": [
       "<Figure size 792x504 with 1 Axes>"
      ]
     },
     "metadata": {
      "needs_background": "light"
     },
     "output_type": "display_data"
    }
   ],
   "source": [
    "plt.figure(figsize=(11, 7))\n",
    "hr_ds_for_plots['GenderID'].value_counts().plot(kind='bar')"
   ]
  },
  {
   "cell_type": "code",
   "execution_count": 13,
   "metadata": {
    "ExecuteTime": {
     "end_time": "2020-06-11T23:42:13.062269Z",
     "start_time": "2020-06-11T23:42:12.937601Z"
    }
   },
   "outputs": [
    {
     "data": {
      "image/png": "[encoded data removed]",
      "text/plain": [
       "<Figure size 1152x720 with 1 Axes>"
      ]
     },
     "metadata": {},
     "output_type": "display_data"
    }
   ],
   "source": [
    "index  = hr_ds_for_plots['RaceDesc'].value_counts().index\n",
    "values = hr_ds_for_plots['RaceDesc'].value_counts()\n",
    "\n",
    "plt.figure(figsize=(16, 10))\n",
    "temp = plt.pie(values, labels = index)"
   ]
  },
  {
   "cell_type": "code",
   "execution_count": 14,
   "metadata": {
    "ExecuteTime": {
     "end_time": "2020-06-11T23:42:13.072027Z",
     "start_time": "2020-06-11T23:42:13.064214Z"
    }
   },
   "outputs": [],
   "source": [
    "hr_ds_for_plots.loc[hr_ds_for_plots['MarriedID'] == 1, 'MarriedID']   = 'yes'\n",
    "hr_ds_for_plots.loc[hr_ds_for_plots['MarriedID'] == 0, 'MarriedID']   = 'no'"
   ]
  },
  {
   "cell_type": "code",
   "execution_count": 15,
   "metadata": {
    "ExecuteTime": {
     "end_time": "2020-06-11T23:42:13.218057Z",
     "start_time": "2020-06-11T23:42:13.073920Z"
    }
   },
   "outputs": [
    {
     "data": {
      "text/plain": [
       "<matplotlib.axes._subplots.AxesSubplot at 0x1a1faf0c10>"
      ]
     },
     "execution_count": 15,
     "metadata": {},
     "output_type": "execute_result"
    },
    {
     "data": {
      "image/png": "[encoded data removed]",
      "text/plain": [
       "<Figure size 792x504 with 1 Axes>"
      ]
     },
     "metadata": {
      "needs_background": "light"
     },
     "output_type": "display_data"
    }
   ],
   "source": [
    "plt.figure(figsize=(11, 7))\n",
    "hr_ds_for_plots['MarriedID'].value_counts().plot(kind='bar')"
   ]
  },
  {
   "cell_type": "code",
   "execution_count": 16,
   "metadata": {
    "ExecuteTime": {
     "end_time": "2020-06-11T23:42:13.425340Z",
     "start_time": "2020-06-11T23:42:13.219919Z"
    }
   },
   "outputs": [
    {
     "data": {
      "image/png": "[encoded data removed]",
      "text/plain": [
       "<Figure size 864x432 with 1 Axes>"
      ]
     },
     "metadata": {
      "needs_background": "light"
     },
     "output_type": "display_data"
    }
   ],
   "source": [
    "plt.hist(ds_to_evaluate[target])\n",
    "fig = matplotlib.pyplot.gcf()\n",
    "fig.set_size_inches(12, 6)\n",
    "plt.show()"
   ]
  },
  {
   "cell_type": "code",
   "execution_count": 17,
   "metadata": {
    "ExecuteTime": {
     "end_time": "2020-06-11T23:42:13.431228Z",
     "start_time": "2020-06-11T23:42:13.427193Z"
    }
   },
   "outputs": [
    {
     "name": "stdout",
     "output_type": "stream",
     "text": [
      "Processing Factor: MarriedID | Level: 0.0\n",
      "Processing Factor: MarriedID | Level: 1.0\n",
      "Processing Factor: GenderID | Level: 0.0\n",
      "Processing Factor: GenderID | Level: 1.0\n"
     ]
    }
   ],
   "source": [
    "factor_1_grouped = get_targets_grouped_by_factor(target, factor_2, ds_to_evaluate)\n",
    "factor_2_grouped = get_targets_grouped_by_factor(target, factor_1, ds_to_evaluate)"
   ]
  },
  {
   "cell_type": "code",
   "execution_count": 20,
   "metadata": {
    "ExecuteTime": {
     "end_time": "2020-06-11T23:42:13.443996Z",
     "start_time": "2020-06-11T23:42:13.440931Z"
    }
   },
   "outputs": [
    {
     "name": "stdout",
     "output_type": "stream",
     "text": [
      "2\n",
      "2\n"
     ]
    }
   ],
   "source": [
    "print(len(factor_1_grouped))\n",
    "print(len(factor_2_grouped))"
   ]
  },
  {
   "cell_type": "code",
   "execution_count": 21,
   "metadata": {
    "ExecuteTime": {
     "end_time": "2020-06-11T23:42:13.450721Z",
     "start_time": "2020-06-11T23:42:13.445948Z"
    },
    "scrolled": true
   },
   "outputs": [
    {
     "name": "stdout",
     "output_type": "stream",
     "text": [
      "factor_1 - genederID_ BartlettResult(statistic=0.5307906487506534, pvalue=0.4662746439205244)\n",
      "factor_2 - marriedID_ BartlettResult(statistic=1.5867451970193318, pvalue=0.20779177139080507)\n"
     ]
    }
   ],
   "source": [
    "print(\"factor_1 - genederID_ {}\".format(ss.bartlett(*factor_1_grouped)))\n",
    "print(\"factor_2 - marriedID_ {}\".format(ss.bartlett(*factor_2_grouped)))"
   ]
  },
  {
   "cell_type": "code",
   "execution_count": 62,
   "metadata": {
    "ExecuteTime": {
     "end_time": "2020-06-15T23:07:57.170069Z",
     "start_time": "2020-06-15T23:07:57.160830Z"
    }
   },
   "outputs": [
    {
     "data": {
      "text/html": [
       "<div>\n",
       "<style scoped>\n",
       "    .dataframe tbody tr th:only-of-type {\n",
       "        vertical-align: middle;\n",
       "    }\n",
       "\n",
       "    .dataframe tbody tr th {\n",
       "        vertical-align: top;\n",
       "    }\n",
       "\n",
       "    .dataframe thead th {\n",
       "        text-align: right;\n",
       "    }\n",
       "</style>\n",
       "<table border=\"1\" class=\"dataframe\">\n",
       "  <thead>\n",
       "    <tr style=\"text-align: right;\">\n",
       "      <th></th>\n",
       "      <th>MarriedID</th>\n",
       "      <th>GenderID</th>\n",
       "      <th>PayRate</th>\n",
       "    </tr>\n",
       "  </thead>\n",
       "  <tbody>\n",
       "    <tr>\n",
       "      <th>305</th>\n",
       "      <td>1.0</td>\n",
       "      <td>0.0</td>\n",
       "      <td>54.1</td>\n",
       "    </tr>\n",
       "    <tr>\n",
       "      <th>306</th>\n",
       "      <td>1.0</td>\n",
       "      <td>1.0</td>\n",
       "      <td>56.2</td>\n",
       "    </tr>\n",
       "    <tr>\n",
       "      <th>307</th>\n",
       "      <td>1.0</td>\n",
       "      <td>1.0</td>\n",
       "      <td>53.8</td>\n",
       "    </tr>\n",
       "    <tr>\n",
       "      <th>308</th>\n",
       "      <td>0.0</td>\n",
       "      <td>1.0</td>\n",
       "      <td>53.0</td>\n",
       "    </tr>\n",
       "    <tr>\n",
       "      <th>309</th>\n",
       "      <td>0.0</td>\n",
       "      <td>0.0</td>\n",
       "      <td>55.2</td>\n",
       "    </tr>\n",
       "  </tbody>\n",
       "</table>\n",
       "</div>"
      ],
      "text/plain": [
       "     MarriedID  GenderID  PayRate\n",
       "305        1.0       0.0     54.1\n",
       "306        1.0       1.0     56.2\n",
       "307        1.0       1.0     53.8\n",
       "308        0.0       1.0     53.0\n",
       "309        0.0       0.0     55.2"
      ]
     },
     "execution_count": 62,
     "metadata": {},
     "output_type": "execute_result"
    }
   ],
   "source": [
    "ds_to_evaluate.tail(5)"
   ]
  },
  {
   "cell_type": "code",
   "execution_count": 23,
   "metadata": {
    "ExecuteTime": {
     "end_time": "2020-06-11T23:42:13.490777Z",
     "start_time": "2020-06-11T23:42:13.462081Z"
    }
   },
   "outputs": [],
   "source": [
    "mlm = ols(target + ' ~ C(' + factor_1 + ', Sum)*C(' + factor_2 + ', Sum)', data = ds_to_evaluate).fit()"
   ]
  },
  {
   "cell_type": "code",
   "execution_count": 24,
   "metadata": {
    "ExecuteTime": {
     "end_time": "2020-06-11T23:42:13.511001Z",
     "start_time": "2020-06-11T23:42:13.494306Z"
    }
   },
   "outputs": [],
   "source": [
    "anova_result = sm.stats.anova_lm(mlm, typ=2) "
   ]
  },
  {
   "cell_type": "code",
   "execution_count": 25,
   "metadata": {
    "ExecuteTime": {
     "end_time": "2020-06-11T23:42:13.525561Z",
     "start_time": "2020-06-11T23:42:13.513024Z"
    }
   },
   "outputs": [
    {
     "data": {
      "text/html": [
       "<div>\n",
       "<style scoped>\n",
       "    .dataframe tbody tr th:only-of-type {\n",
       "        vertical-align: middle;\n",
       "    }\n",
       "\n",
       "    .dataframe tbody tr th {\n",
       "        vertical-align: top;\n",
       "    }\n",
       "\n",
       "    .dataframe thead th {\n",
       "        text-align: right;\n",
       "    }\n",
       "</style>\n",
       "<table border=\"1\" class=\"dataframe\">\n",
       "  <thead>\n",
       "    <tr style=\"text-align: right;\">\n",
       "      <th></th>\n",
       "      <th>sum_sq</th>\n",
       "      <th>df</th>\n",
       "      <th>F</th>\n",
       "      <th>PR(&gt;F)</th>\n",
       "    </tr>\n",
       "  </thead>\n",
       "  <tbody>\n",
       "    <tr>\n",
       "      <th>C(GenderID, Sum)</th>\n",
       "      <td>1368.716353</td>\n",
       "      <td>1.0</td>\n",
       "      <td>5.840812</td>\n",
       "      <td>0.016243</td>\n",
       "    </tr>\n",
       "    <tr>\n",
       "      <th>C(MarriedID, Sum)</th>\n",
       "      <td>63.907653</td>\n",
       "      <td>1.0</td>\n",
       "      <td>0.272717</td>\n",
       "      <td>0.601893</td>\n",
       "    </tr>\n",
       "    <tr>\n",
       "      <th>C(GenderID, Sum):C(MarriedID, Sum)</th>\n",
       "      <td>0.107373</td>\n",
       "      <td>1.0</td>\n",
       "      <td>0.000458</td>\n",
       "      <td>0.982936</td>\n",
       "    </tr>\n",
       "    <tr>\n",
       "      <th>Residual</th>\n",
       "      <td>71707.020472</td>\n",
       "      <td>306.0</td>\n",
       "      <td>NaN</td>\n",
       "      <td>NaN</td>\n",
       "    </tr>\n",
       "  </tbody>\n",
       "</table>\n",
       "</div>"
      ],
      "text/plain": [
       "                                          sum_sq     df         F    PR(>F)\n",
       "C(GenderID, Sum)                     1368.716353    1.0  5.840812  0.016243\n",
       "C(MarriedID, Sum)                      63.907653    1.0  0.272717  0.601893\n",
       "C(GenderID, Sum):C(MarriedID, Sum)      0.107373    1.0  0.000458  0.982936\n",
       "Residual                            71707.020472  306.0       NaN       NaN"
      ]
     },
     "execution_count": 25,
     "metadata": {},
     "output_type": "execute_result"
    }
   ],
   "source": [
    "anova_result"
   ]
  },
  {
   "cell_type": "code",
   "execution_count": 58,
   "metadata": {
    "ExecuteTime": {
     "end_time": "2020-06-14T15:55:02.818464Z",
     "start_time": "2020-06-14T15:55:02.631635Z"
    }
   },
   "outputs": [
    {
     "data": {
      "image/png": "[encoded data removed]",
      "text/plain": [
       "<Figure size 864x432 with 1 Axes>"
      ]
     },
     "metadata": {
      "needs_background": "light"
     },
     "output_type": "display_data"
    }
   ],
   "source": [
    "fig = sm.qqplot( mlm.resid , line='r', dist=stats.norm)\n",
    "fig = matplotlib.pyplot.gcf()\n",
    "fig.set_size_inches(12, 6)\n",
    "plt.show()"
   ]
  },
  {
   "cell_type": "code",
   "execution_count": 27,
   "metadata": {
    "ExecuteTime": {
     "end_time": "2020-06-11T23:42:13.719565Z",
     "start_time": "2020-06-11T23:42:13.710801Z"
    }
   },
   "outputs": [],
   "source": [
    "not_married_woman = np.mean(ds_to_evaluate[(ds_to_evaluate['MarriedID'] == 0) & (ds_to_evaluate['GenderID'] == 0)]['PayRate'])\n",
    "married_women = np.mean(ds_to_evaluate[(ds_to_evaluate['MarriedID'] == 1) & (ds_to_evaluate['GenderID'] == 0)]['PayRate'])\n",
    "not_married_men = np.mean(ds_to_evaluate[(ds_to_evaluate['MarriedID'] == 0) & (ds_to_evaluate['GenderID'] == 1)]['PayRate'])\n",
    "married_men = np.mean(ds_to_evaluate[(ds_to_evaluate['MarriedID'] == 1) & (ds_to_evaluate['GenderID'] == 1)]['PayRate'])"
   ]
  },
  {
   "cell_type": "code",
   "execution_count": 28,
   "metadata": {
    "ExecuteTime": {
     "end_time": "2020-06-11T23:42:13.724581Z",
     "start_time": "2020-06-11T23:42:13.721547Z"
    }
   },
   "outputs": [],
   "source": [
    "gender = ['Married', 'Not Married']"
   ]
  },
  {
   "cell_type": "code",
   "execution_count": 29,
   "metadata": {
    "ExecuteTime": {
     "end_time": "2020-06-11T23:42:13.857929Z",
     "start_time": "2020-06-11T23:42:13.726252Z"
    }
   },
   "outputs": [
    {
     "data": {
      "image/png": "[encoded data removed]",
      "text/plain": [
       "<Figure size 648x360 with 1 Axes>"
      ]
     },
     "metadata": {
      "needs_background": "light"
     },
     "output_type": "display_data"
    }
   ],
   "source": [
    "plt.plot(gender, [married_women, not_married_woman], color='r', label='Women')\n",
    "plt.plot(gender, [married_men, not_married_men], color='b', label='Men')\n",
    "\n",
    "plt.legend(loc=\"upper right\")\n",
    "\n",
    "fig = matplotlib.pyplot.gcf()\n",
    "fig.set_size_inches(9, 5)\n",
    "plt.show()"
   ]
  },
  {
   "cell_type": "code",
   "execution_count": null,
   "metadata": {},
   "outputs": [],
   "source": []
  }
 ],
 "metadata": {
  "kernelspec": {
   "display_name": "Python 3",
   "language": "python",
   "name": "python3"
  },
  "language_info": {
   "codemirror_mode": {
    "name": "ipython",
    "version": 3
   },
   "file_extension": ".py",
   "mimetype": "text/x-python",
   "name": "python",
   "nbconvert_exporter": "python",
   "pygments_lexer": "ipython3",
   "version": "3.7.7"
  }
 },
 "nbformat": 4,
 "nbformat_minor": 4
}
