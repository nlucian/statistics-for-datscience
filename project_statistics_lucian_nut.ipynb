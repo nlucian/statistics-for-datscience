{
 "cells": [
  {
   "cell_type": "code",
   "execution_count": null,
   "metadata": {
    "ExecuteTime": {
     "end_time": "2020-05-30T14:59:42.068178Z",
     "start_time": "2020-05-30T14:59:42.065803Z"
    }
   },
   "outputs": [],
   "source": [
    "## data source :https://finance.yahoo.com/quote/NFLX/history?period1=1022112000&period2=1590796800&interval=1d&filter=history&frequency=1d"
   ]
  },
  {
   "cell_type": "code",
   "execution_count": 1,
   "metadata": {
    "ExecuteTime": {
     "end_time": "2020-05-30T15:07:38.449019Z",
     "start_time": "2020-05-30T15:07:37.059350Z"
    }
   },
   "outputs": [],
   "source": [
    "import pandas as pd\n",
    "import matplotlib.pyplot as plt\n",
    "\n",
    "from pandas.plotting import autocorrelation_plot\n",
    "\n",
    "#from pandas.plotting import lag_plot\n",
    "#from statsmodels.tsa.seasonal import seasonal_decompose\n",
    "\n",
    "from statsmodels.tsa.stattools import adfuller\n",
    "from statsmodels.graphics.tsaplots import plot_pacf\n",
    "from statsmodels.graphics.tsaplots import plot_acf\n",
    "\n",
    "\n",
    "import numpy as np\n",
    "from pandas import Series"
   ]
  },
  {
   "cell_type": "code",
   "execution_count": 2,
   "metadata": {
    "ExecuteTime": {
     "end_time": "2020-05-30T15:07:39.139035Z",
     "start_time": "2020-05-30T15:07:38.451271Z"
    }
   },
   "outputs": [],
   "source": [
    "netflix_stocks = pd.read_csv('https://raw.githubusercontent.com/nlucian/time-series-analysis/master/NFLX.csv')"
   ]
  },
  {
   "cell_type": "code",
   "execution_count": 3,
   "metadata": {
    "ExecuteTime": {
     "end_time": "2020-05-30T15:07:39.147086Z",
     "start_time": "2020-05-30T15:07:39.141880Z"
    }
   },
   "outputs": [],
   "source": [
    "netflix_stocks['Date'] =  pd.to_datetime(netflix_stocks['Date'])"
   ]
  },
  {
   "cell_type": "code",
   "execution_count": 4,
   "metadata": {
    "ExecuteTime": {
     "end_time": "2020-05-30T15:07:39.164210Z",
     "start_time": "2020-05-30T15:07:39.149610Z"
    }
   },
   "outputs": [
    {
     "data": {
      "text/html": [
       "<div>\n",
       "<style scoped>\n",
       "    .dataframe tbody tr th:only-of-type {\n",
       "        vertical-align: middle;\n",
       "    }\n",
       "\n",
       "    .dataframe tbody tr th {\n",
       "        vertical-align: top;\n",
       "    }\n",
       "\n",
       "    .dataframe thead th {\n",
       "        text-align: right;\n",
       "    }\n",
       "</style>\n",
       "<table border=\"1\" class=\"dataframe\">\n",
       "  <thead>\n",
       "    <tr style=\"text-align: right;\">\n",
       "      <th></th>\n",
       "      <th>Date</th>\n",
       "      <th>Open</th>\n",
       "      <th>High</th>\n",
       "      <th>Low</th>\n",
       "      <th>Close</th>\n",
       "      <th>Adj Close</th>\n",
       "      <th>Volume</th>\n",
       "    </tr>\n",
       "  </thead>\n",
       "  <tbody>\n",
       "    <tr>\n",
       "      <th>4526</th>\n",
       "      <td>2020-05-15</td>\n",
       "      <td>440.700012</td>\n",
       "      <td>455.000000</td>\n",
       "      <td>437.510010</td>\n",
       "      <td>454.190002</td>\n",
       "      <td>454.190002</td>\n",
       "      <td>7244000</td>\n",
       "    </tr>\n",
       "    <tr>\n",
       "      <th>4527</th>\n",
       "      <td>2020-05-18</td>\n",
       "      <td>451.160004</td>\n",
       "      <td>456.359985</td>\n",
       "      <td>443.350006</td>\n",
       "      <td>452.579987</td>\n",
       "      <td>452.579987</td>\n",
       "      <td>7780300</td>\n",
       "    </tr>\n",
       "    <tr>\n",
       "      <th>4528</th>\n",
       "      <td>2020-05-19</td>\n",
       "      <td>453.399994</td>\n",
       "      <td>458.970001</td>\n",
       "      <td>450.470001</td>\n",
       "      <td>451.040009</td>\n",
       "      <td>451.040009</td>\n",
       "      <td>4810500</td>\n",
       "    </tr>\n",
       "    <tr>\n",
       "      <th>4529</th>\n",
       "      <td>2020-05-20</td>\n",
       "      <td>454.250000</td>\n",
       "      <td>455.809998</td>\n",
       "      <td>444.000000</td>\n",
       "      <td>447.670013</td>\n",
       "      <td>447.670013</td>\n",
       "      <td>5607300</td>\n",
       "    </tr>\n",
       "    <tr>\n",
       "      <th>4530</th>\n",
       "      <td>2020-05-21</td>\n",
       "      <td>448.559998</td>\n",
       "      <td>448.959991</td>\n",
       "      <td>430.250000</td>\n",
       "      <td>436.250000</td>\n",
       "      <td>436.250000</td>\n",
       "      <td>9117300</td>\n",
       "    </tr>\n",
       "    <tr>\n",
       "      <th>4531</th>\n",
       "      <td>2020-05-22</td>\n",
       "      <td>437.000000</td>\n",
       "      <td>439.089996</td>\n",
       "      <td>427.179993</td>\n",
       "      <td>429.320007</td>\n",
       "      <td>429.320007</td>\n",
       "      <td>5422300</td>\n",
       "    </tr>\n",
       "    <tr>\n",
       "      <th>4532</th>\n",
       "      <td>2020-05-26</td>\n",
       "      <td>427.769989</td>\n",
       "      <td>428.500000</td>\n",
       "      <td>413.140015</td>\n",
       "      <td>414.769989</td>\n",
       "      <td>414.769989</td>\n",
       "      <td>7881100</td>\n",
       "    </tr>\n",
       "    <tr>\n",
       "      <th>4533</th>\n",
       "      <td>2020-05-27</td>\n",
       "      <td>410.380005</td>\n",
       "      <td>420.019989</td>\n",
       "      <td>397.859985</td>\n",
       "      <td>419.890015</td>\n",
       "      <td>419.890015</td>\n",
       "      <td>10446300</td>\n",
       "    </tr>\n",
       "    <tr>\n",
       "      <th>4534</th>\n",
       "      <td>2020-05-28</td>\n",
       "      <td>417.239990</td>\n",
       "      <td>422.369995</td>\n",
       "      <td>411.500000</td>\n",
       "      <td>413.440002</td>\n",
       "      <td>413.440002</td>\n",
       "      <td>5655100</td>\n",
       "    </tr>\n",
       "    <tr>\n",
       "      <th>4535</th>\n",
       "      <td>2020-05-29</td>\n",
       "      <td>417.459991</td>\n",
       "      <td>420.239990</td>\n",
       "      <td>411.850006</td>\n",
       "      <td>419.730011</td>\n",
       "      <td>419.730011</td>\n",
       "      <td>5045192</td>\n",
       "    </tr>\n",
       "  </tbody>\n",
       "</table>\n",
       "</div>"
      ],
      "text/plain": [
       "           Date        Open        High         Low       Close   Adj Close  \\\n",
       "4526 2020-05-15  440.700012  455.000000  437.510010  454.190002  454.190002   \n",
       "4527 2020-05-18  451.160004  456.359985  443.350006  452.579987  452.579987   \n",
       "4528 2020-05-19  453.399994  458.970001  450.470001  451.040009  451.040009   \n",
       "4529 2020-05-20  454.250000  455.809998  444.000000  447.670013  447.670013   \n",
       "4530 2020-05-21  448.559998  448.959991  430.250000  436.250000  436.250000   \n",
       "4531 2020-05-22  437.000000  439.089996  427.179993  429.320007  429.320007   \n",
       "4532 2020-05-26  427.769989  428.500000  413.140015  414.769989  414.769989   \n",
       "4533 2020-05-27  410.380005  420.019989  397.859985  419.890015  419.890015   \n",
       "4534 2020-05-28  417.239990  422.369995  411.500000  413.440002  413.440002   \n",
       "4535 2020-05-29  417.459991  420.239990  411.850006  419.730011  419.730011   \n",
       "\n",
       "        Volume  \n",
       "4526   7244000  \n",
       "4527   7780300  \n",
       "4528   4810500  \n",
       "4529   5607300  \n",
       "4530   9117300  \n",
       "4531   5422300  \n",
       "4532   7881100  \n",
       "4533  10446300  \n",
       "4534   5655100  \n",
       "4535   5045192  "
      ]
     },
     "execution_count": 4,
     "metadata": {},
     "output_type": "execute_result"
    }
   ],
   "source": [
    "netflix_stocks.tail(10)"
   ]
  },
  {
   "cell_type": "code",
   "execution_count": 5,
   "metadata": {
    "ExecuteTime": {
     "end_time": "2020-05-30T15:07:39.183270Z",
     "start_time": "2020-05-30T15:07:39.166173Z"
    }
   },
   "outputs": [
    {
     "data": {
      "text/html": [
       "<div>\n",
       "<style scoped>\n",
       "    .dataframe tbody tr th:only-of-type {\n",
       "        vertical-align: middle;\n",
       "    }\n",
       "\n",
       "    .dataframe tbody tr th {\n",
       "        vertical-align: top;\n",
       "    }\n",
       "\n",
       "    .dataframe thead th {\n",
       "        text-align: right;\n",
       "    }\n",
       "</style>\n",
       "<table border=\"1\" class=\"dataframe\">\n",
       "  <thead>\n",
       "    <tr style=\"text-align: right;\">\n",
       "      <th></th>\n",
       "      <th>Open</th>\n",
       "      <th>High</th>\n",
       "      <th>Low</th>\n",
       "      <th>Close</th>\n",
       "      <th>Adj Close</th>\n",
       "      <th>Volume</th>\n",
       "    </tr>\n",
       "    <tr>\n",
       "      <th>Date</th>\n",
       "      <th></th>\n",
       "      <th></th>\n",
       "      <th></th>\n",
       "      <th></th>\n",
       "      <th></th>\n",
       "      <th></th>\n",
       "    </tr>\n",
       "  </thead>\n",
       "  <tbody>\n",
       "    <tr>\n",
       "      <th>2002-05-23</th>\n",
       "      <td>1.156429</td>\n",
       "      <td>1.242857</td>\n",
       "      <td>1.145714</td>\n",
       "      <td>1.196429</td>\n",
       "      <td>1.196429</td>\n",
       "      <td>104790000</td>\n",
       "    </tr>\n",
       "    <tr>\n",
       "      <th>2002-05-24</th>\n",
       "      <td>1.214286</td>\n",
       "      <td>1.225000</td>\n",
       "      <td>1.197143</td>\n",
       "      <td>1.210000</td>\n",
       "      <td>1.210000</td>\n",
       "      <td>11104800</td>\n",
       "    </tr>\n",
       "    <tr>\n",
       "      <th>2002-05-28</th>\n",
       "      <td>1.213571</td>\n",
       "      <td>1.232143</td>\n",
       "      <td>1.157143</td>\n",
       "      <td>1.157143</td>\n",
       "      <td>1.157143</td>\n",
       "      <td>6609400</td>\n",
       "    </tr>\n",
       "    <tr>\n",
       "      <th>2002-05-29</th>\n",
       "      <td>1.164286</td>\n",
       "      <td>1.164286</td>\n",
       "      <td>1.085714</td>\n",
       "      <td>1.103571</td>\n",
       "      <td>1.103571</td>\n",
       "      <td>6757800</td>\n",
       "    </tr>\n",
       "    <tr>\n",
       "      <th>2002-05-30</th>\n",
       "      <td>1.107857</td>\n",
       "      <td>1.107857</td>\n",
       "      <td>1.071429</td>\n",
       "      <td>1.071429</td>\n",
       "      <td>1.071429</td>\n",
       "      <td>10154200</td>\n",
       "    </tr>\n",
       "    <tr>\n",
       "      <th>...</th>\n",
       "      <td>...</td>\n",
       "      <td>...</td>\n",
       "      <td>...</td>\n",
       "      <td>...</td>\n",
       "      <td>...</td>\n",
       "      <td>...</td>\n",
       "    </tr>\n",
       "    <tr>\n",
       "      <th>2020-05-22</th>\n",
       "      <td>437.000000</td>\n",
       "      <td>439.089996</td>\n",
       "      <td>427.179993</td>\n",
       "      <td>429.320007</td>\n",
       "      <td>429.320007</td>\n",
       "      <td>5422300</td>\n",
       "    </tr>\n",
       "    <tr>\n",
       "      <th>2020-05-26</th>\n",
       "      <td>427.769989</td>\n",
       "      <td>428.500000</td>\n",
       "      <td>413.140015</td>\n",
       "      <td>414.769989</td>\n",
       "      <td>414.769989</td>\n",
       "      <td>7881100</td>\n",
       "    </tr>\n",
       "    <tr>\n",
       "      <th>2020-05-27</th>\n",
       "      <td>410.380005</td>\n",
       "      <td>420.019989</td>\n",
       "      <td>397.859985</td>\n",
       "      <td>419.890015</td>\n",
       "      <td>419.890015</td>\n",
       "      <td>10446300</td>\n",
       "    </tr>\n",
       "    <tr>\n",
       "      <th>2020-05-28</th>\n",
       "      <td>417.239990</td>\n",
       "      <td>422.369995</td>\n",
       "      <td>411.500000</td>\n",
       "      <td>413.440002</td>\n",
       "      <td>413.440002</td>\n",
       "      <td>5655100</td>\n",
       "    </tr>\n",
       "    <tr>\n",
       "      <th>2020-05-29</th>\n",
       "      <td>417.459991</td>\n",
       "      <td>420.239990</td>\n",
       "      <td>411.850006</td>\n",
       "      <td>419.730011</td>\n",
       "      <td>419.730011</td>\n",
       "      <td>5045192</td>\n",
       "    </tr>\n",
       "  </tbody>\n",
       "</table>\n",
       "<p>4536 rows × 6 columns</p>\n",
       "</div>"
      ],
      "text/plain": [
       "                  Open        High         Low       Close   Adj Close  \\\n",
       "Date                                                                     \n",
       "2002-05-23    1.156429    1.242857    1.145714    1.196429    1.196429   \n",
       "2002-05-24    1.214286    1.225000    1.197143    1.210000    1.210000   \n",
       "2002-05-28    1.213571    1.232143    1.157143    1.157143    1.157143   \n",
       "2002-05-29    1.164286    1.164286    1.085714    1.103571    1.103571   \n",
       "2002-05-30    1.107857    1.107857    1.071429    1.071429    1.071429   \n",
       "...                ...         ...         ...         ...         ...   \n",
       "2020-05-22  437.000000  439.089996  427.179993  429.320007  429.320007   \n",
       "2020-05-26  427.769989  428.500000  413.140015  414.769989  414.769989   \n",
       "2020-05-27  410.380005  420.019989  397.859985  419.890015  419.890015   \n",
       "2020-05-28  417.239990  422.369995  411.500000  413.440002  413.440002   \n",
       "2020-05-29  417.459991  420.239990  411.850006  419.730011  419.730011   \n",
       "\n",
       "               Volume  \n",
       "Date                   \n",
       "2002-05-23  104790000  \n",
       "2002-05-24   11104800  \n",
       "2002-05-28    6609400  \n",
       "2002-05-29    6757800  \n",
       "2002-05-30   10154200  \n",
       "...               ...  \n",
       "2020-05-22    5422300  \n",
       "2020-05-26    7881100  \n",
       "2020-05-27   10446300  \n",
       "2020-05-28    5655100  \n",
       "2020-05-29    5045192  \n",
       "\n",
       "[4536 rows x 6 columns]"
      ]
     },
     "execution_count": 5,
     "metadata": {},
     "output_type": "execute_result"
    }
   ],
   "source": [
    "netflix_stocks_indexed = netflix_stocks.copy()\n",
    "\n",
    "\n",
    "netflix_stocks_indexed = netflix_stocks_indexed.set_index('Date')\n",
    "netflix_stocks_indexed"
   ]
  },
  {
   "cell_type": "code",
   "execution_count": 6,
   "metadata": {
    "ExecuteTime": {
     "end_time": "2020-05-30T15:07:39.203892Z",
     "start_time": "2020-05-30T15:07:39.185590Z"
    }
   },
   "outputs": [
    {
     "data": {
      "text/html": [
       "<div>\n",
       "<style scoped>\n",
       "    .dataframe tbody tr th:only-of-type {\n",
       "        vertical-align: middle;\n",
       "    }\n",
       "\n",
       "    .dataframe tbody tr th {\n",
       "        vertical-align: top;\n",
       "    }\n",
       "\n",
       "    .dataframe thead th {\n",
       "        text-align: right;\n",
       "    }\n",
       "</style>\n",
       "<table border=\"1\" class=\"dataframe\">\n",
       "  <thead>\n",
       "    <tr style=\"text-align: right;\">\n",
       "      <th></th>\n",
       "      <th>Date</th>\n",
       "      <th>Open</th>\n",
       "      <th>High</th>\n",
       "      <th>Low</th>\n",
       "      <th>Close</th>\n",
       "      <th>Adj Close</th>\n",
       "      <th>Volume</th>\n",
       "    </tr>\n",
       "  </thead>\n",
       "  <tbody>\n",
       "    <tr>\n",
       "      <th>0</th>\n",
       "      <td>2002-05-23</td>\n",
       "      <td>1.156429</td>\n",
       "      <td>1.242857</td>\n",
       "      <td>1.145714</td>\n",
       "      <td>1.196429</td>\n",
       "      <td>1.196429</td>\n",
       "      <td>104790000</td>\n",
       "    </tr>\n",
       "    <tr>\n",
       "      <th>1</th>\n",
       "      <td>2002-05-24</td>\n",
       "      <td>1.214286</td>\n",
       "      <td>1.225000</td>\n",
       "      <td>1.197143</td>\n",
       "      <td>1.210000</td>\n",
       "      <td>1.210000</td>\n",
       "      <td>11104800</td>\n",
       "    </tr>\n",
       "    <tr>\n",
       "      <th>2</th>\n",
       "      <td>2002-05-28</td>\n",
       "      <td>1.213571</td>\n",
       "      <td>1.232143</td>\n",
       "      <td>1.157143</td>\n",
       "      <td>1.157143</td>\n",
       "      <td>1.157143</td>\n",
       "      <td>6609400</td>\n",
       "    </tr>\n",
       "    <tr>\n",
       "      <th>3</th>\n",
       "      <td>2002-05-29</td>\n",
       "      <td>1.164286</td>\n",
       "      <td>1.164286</td>\n",
       "      <td>1.085714</td>\n",
       "      <td>1.103571</td>\n",
       "      <td>1.103571</td>\n",
       "      <td>6757800</td>\n",
       "    </tr>\n",
       "    <tr>\n",
       "      <th>4</th>\n",
       "      <td>2002-05-30</td>\n",
       "      <td>1.107857</td>\n",
       "      <td>1.107857</td>\n",
       "      <td>1.071429</td>\n",
       "      <td>1.071429</td>\n",
       "      <td>1.071429</td>\n",
       "      <td>10154200</td>\n",
       "    </tr>\n",
       "    <tr>\n",
       "      <th>...</th>\n",
       "      <td>...</td>\n",
       "      <td>...</td>\n",
       "      <td>...</td>\n",
       "      <td>...</td>\n",
       "      <td>...</td>\n",
       "      <td>...</td>\n",
       "      <td>...</td>\n",
       "    </tr>\n",
       "    <tr>\n",
       "      <th>4531</th>\n",
       "      <td>2020-05-22</td>\n",
       "      <td>437.000000</td>\n",
       "      <td>439.089996</td>\n",
       "      <td>427.179993</td>\n",
       "      <td>429.320007</td>\n",
       "      <td>429.320007</td>\n",
       "      <td>5422300</td>\n",
       "    </tr>\n",
       "    <tr>\n",
       "      <th>4532</th>\n",
       "      <td>2020-05-26</td>\n",
       "      <td>427.769989</td>\n",
       "      <td>428.500000</td>\n",
       "      <td>413.140015</td>\n",
       "      <td>414.769989</td>\n",
       "      <td>414.769989</td>\n",
       "      <td>7881100</td>\n",
       "    </tr>\n",
       "    <tr>\n",
       "      <th>4533</th>\n",
       "      <td>2020-05-27</td>\n",
       "      <td>410.380005</td>\n",
       "      <td>420.019989</td>\n",
       "      <td>397.859985</td>\n",
       "      <td>419.890015</td>\n",
       "      <td>419.890015</td>\n",
       "      <td>10446300</td>\n",
       "    </tr>\n",
       "    <tr>\n",
       "      <th>4534</th>\n",
       "      <td>2020-05-28</td>\n",
       "      <td>417.239990</td>\n",
       "      <td>422.369995</td>\n",
       "      <td>411.500000</td>\n",
       "      <td>413.440002</td>\n",
       "      <td>413.440002</td>\n",
       "      <td>5655100</td>\n",
       "    </tr>\n",
       "    <tr>\n",
       "      <th>4535</th>\n",
       "      <td>2020-05-29</td>\n",
       "      <td>417.459991</td>\n",
       "      <td>420.239990</td>\n",
       "      <td>411.850006</td>\n",
       "      <td>419.730011</td>\n",
       "      <td>419.730011</td>\n",
       "      <td>5045192</td>\n",
       "    </tr>\n",
       "  </tbody>\n",
       "</table>\n",
       "<p>4536 rows × 7 columns</p>\n",
       "</div>"
      ],
      "text/plain": [
       "           Date        Open        High         Low       Close   Adj Close  \\\n",
       "0    2002-05-23    1.156429    1.242857    1.145714    1.196429    1.196429   \n",
       "1    2002-05-24    1.214286    1.225000    1.197143    1.210000    1.210000   \n",
       "2    2002-05-28    1.213571    1.232143    1.157143    1.157143    1.157143   \n",
       "3    2002-05-29    1.164286    1.164286    1.085714    1.103571    1.103571   \n",
       "4    2002-05-30    1.107857    1.107857    1.071429    1.071429    1.071429   \n",
       "...         ...         ...         ...         ...         ...         ...   \n",
       "4531 2020-05-22  437.000000  439.089996  427.179993  429.320007  429.320007   \n",
       "4532 2020-05-26  427.769989  428.500000  413.140015  414.769989  414.769989   \n",
       "4533 2020-05-27  410.380005  420.019989  397.859985  419.890015  419.890015   \n",
       "4534 2020-05-28  417.239990  422.369995  411.500000  413.440002  413.440002   \n",
       "4535 2020-05-29  417.459991  420.239990  411.850006  419.730011  419.730011   \n",
       "\n",
       "         Volume  \n",
       "0     104790000  \n",
       "1      11104800  \n",
       "2       6609400  \n",
       "3       6757800  \n",
       "4      10154200  \n",
       "...         ...  \n",
       "4531    5422300  \n",
       "4532    7881100  \n",
       "4533   10446300  \n",
       "4534    5655100  \n",
       "4535    5045192  \n",
       "\n",
       "[4536 rows x 7 columns]"
      ]
     },
     "execution_count": 6,
     "metadata": {},
     "output_type": "execute_result"
    }
   ],
   "source": [
    "netflix_stocks"
   ]
  },
  {
   "cell_type": "code",
   "execution_count": 7,
   "metadata": {
    "ExecuteTime": {
     "end_time": "2020-05-30T15:07:39.211923Z",
     "start_time": "2020-05-30T15:07:39.207171Z"
    }
   },
   "outputs": [],
   "source": [
    "netflix_closing_df = netflix_stocks[['Date', 'Close']]"
   ]
  },
  {
   "cell_type": "code",
   "execution_count": 8,
   "metadata": {
    "ExecuteTime": {
     "end_time": "2020-05-30T15:07:39.225351Z",
     "start_time": "2020-05-30T15:07:39.215431Z"
    }
   },
   "outputs": [
    {
     "data": {
      "text/html": [
       "<div>\n",
       "<style scoped>\n",
       "    .dataframe tbody tr th:only-of-type {\n",
       "        vertical-align: middle;\n",
       "    }\n",
       "\n",
       "    .dataframe tbody tr th {\n",
       "        vertical-align: top;\n",
       "    }\n",
       "\n",
       "    .dataframe thead th {\n",
       "        text-align: right;\n",
       "    }\n",
       "</style>\n",
       "<table border=\"1\" class=\"dataframe\">\n",
       "  <thead>\n",
       "    <tr style=\"text-align: right;\">\n",
       "      <th></th>\n",
       "      <th>Date</th>\n",
       "      <th>Close</th>\n",
       "    </tr>\n",
       "  </thead>\n",
       "  <tbody>\n",
       "    <tr>\n",
       "      <th>0</th>\n",
       "      <td>2002-05-23</td>\n",
       "      <td>1.196429</td>\n",
       "    </tr>\n",
       "    <tr>\n",
       "      <th>1</th>\n",
       "      <td>2002-05-24</td>\n",
       "      <td>1.210000</td>\n",
       "    </tr>\n",
       "    <tr>\n",
       "      <th>2</th>\n",
       "      <td>2002-05-28</td>\n",
       "      <td>1.157143</td>\n",
       "    </tr>\n",
       "    <tr>\n",
       "      <th>3</th>\n",
       "      <td>2002-05-29</td>\n",
       "      <td>1.103571</td>\n",
       "    </tr>\n",
       "    <tr>\n",
       "      <th>4</th>\n",
       "      <td>2002-05-30</td>\n",
       "      <td>1.071429</td>\n",
       "    </tr>\n",
       "    <tr>\n",
       "      <th>...</th>\n",
       "      <td>...</td>\n",
       "      <td>...</td>\n",
       "    </tr>\n",
       "    <tr>\n",
       "      <th>4531</th>\n",
       "      <td>2020-05-22</td>\n",
       "      <td>429.320007</td>\n",
       "    </tr>\n",
       "    <tr>\n",
       "      <th>4532</th>\n",
       "      <td>2020-05-26</td>\n",
       "      <td>414.769989</td>\n",
       "    </tr>\n",
       "    <tr>\n",
       "      <th>4533</th>\n",
       "      <td>2020-05-27</td>\n",
       "      <td>419.890015</td>\n",
       "    </tr>\n",
       "    <tr>\n",
       "      <th>4534</th>\n",
       "      <td>2020-05-28</td>\n",
       "      <td>413.440002</td>\n",
       "    </tr>\n",
       "    <tr>\n",
       "      <th>4535</th>\n",
       "      <td>2020-05-29</td>\n",
       "      <td>419.730011</td>\n",
       "    </tr>\n",
       "  </tbody>\n",
       "</table>\n",
       "<p>4536 rows × 2 columns</p>\n",
       "</div>"
      ],
      "text/plain": [
       "           Date       Close\n",
       "0    2002-05-23    1.196429\n",
       "1    2002-05-24    1.210000\n",
       "2    2002-05-28    1.157143\n",
       "3    2002-05-29    1.103571\n",
       "4    2002-05-30    1.071429\n",
       "...         ...         ...\n",
       "4531 2020-05-22  429.320007\n",
       "4532 2020-05-26  414.769989\n",
       "4533 2020-05-27  419.890015\n",
       "4534 2020-05-28  413.440002\n",
       "4535 2020-05-29  419.730011\n",
       "\n",
       "[4536 rows x 2 columns]"
      ]
     },
     "execution_count": 8,
     "metadata": {},
     "output_type": "execute_result"
    }
   ],
   "source": [
    "netflix_closing_df"
   ]
  },
  {
   "cell_type": "code",
   "execution_count": 9,
   "metadata": {
    "ExecuteTime": {
     "end_time": "2020-05-30T15:07:39.236982Z",
     "start_time": "2020-05-30T15:07:39.227337Z"
    }
   },
   "outputs": [
    {
     "data": {
      "text/html": [
       "<div>\n",
       "<style scoped>\n",
       "    .dataframe tbody tr th:only-of-type {\n",
       "        vertical-align: middle;\n",
       "    }\n",
       "\n",
       "    .dataframe tbody tr th {\n",
       "        vertical-align: top;\n",
       "    }\n",
       "\n",
       "    .dataframe thead th {\n",
       "        text-align: right;\n",
       "    }\n",
       "</style>\n",
       "<table border=\"1\" class=\"dataframe\">\n",
       "  <thead>\n",
       "    <tr style=\"text-align: right;\">\n",
       "      <th></th>\n",
       "      <th>Close</th>\n",
       "    </tr>\n",
       "    <tr>\n",
       "      <th>Date</th>\n",
       "      <th></th>\n",
       "    </tr>\n",
       "  </thead>\n",
       "  <tbody>\n",
       "    <tr>\n",
       "      <th>2002-05-23</th>\n",
       "      <td>1.196429</td>\n",
       "    </tr>\n",
       "    <tr>\n",
       "      <th>2002-05-24</th>\n",
       "      <td>1.210000</td>\n",
       "    </tr>\n",
       "    <tr>\n",
       "      <th>2002-05-28</th>\n",
       "      <td>1.157143</td>\n",
       "    </tr>\n",
       "    <tr>\n",
       "      <th>2002-05-29</th>\n",
       "      <td>1.103571</td>\n",
       "    </tr>\n",
       "    <tr>\n",
       "      <th>2002-05-30</th>\n",
       "      <td>1.071429</td>\n",
       "    </tr>\n",
       "    <tr>\n",
       "      <th>...</th>\n",
       "      <td>...</td>\n",
       "    </tr>\n",
       "    <tr>\n",
       "      <th>2020-05-22</th>\n",
       "      <td>429.320007</td>\n",
       "    </tr>\n",
       "    <tr>\n",
       "      <th>2020-05-26</th>\n",
       "      <td>414.769989</td>\n",
       "    </tr>\n",
       "    <tr>\n",
       "      <th>2020-05-27</th>\n",
       "      <td>419.890015</td>\n",
       "    </tr>\n",
       "    <tr>\n",
       "      <th>2020-05-28</th>\n",
       "      <td>413.440002</td>\n",
       "    </tr>\n",
       "    <tr>\n",
       "      <th>2020-05-29</th>\n",
       "      <td>419.730011</td>\n",
       "    </tr>\n",
       "  </tbody>\n",
       "</table>\n",
       "<p>4536 rows × 1 columns</p>\n",
       "</div>"
      ],
      "text/plain": [
       "                 Close\n",
       "Date                  \n",
       "2002-05-23    1.196429\n",
       "2002-05-24    1.210000\n",
       "2002-05-28    1.157143\n",
       "2002-05-29    1.103571\n",
       "2002-05-30    1.071429\n",
       "...                ...\n",
       "2020-05-22  429.320007\n",
       "2020-05-26  414.769989\n",
       "2020-05-27  419.890015\n",
       "2020-05-28  413.440002\n",
       "2020-05-29  419.730011\n",
       "\n",
       "[4536 rows x 1 columns]"
      ]
     },
     "execution_count": 9,
     "metadata": {},
     "output_type": "execute_result"
    }
   ],
   "source": [
    "netflix_stocks_indexed[['Close']]"
   ]
  },
  {
   "cell_type": "markdown",
   "metadata": {},
   "source": [
    "### Stationarity"
   ]
  },
  {
   "cell_type": "code",
   "execution_count": 10,
   "metadata": {
    "ExecuteTime": {
     "end_time": "2020-05-30T15:07:39.240776Z",
     "start_time": "2020-05-30T15:07:39.238702Z"
    }
   },
   "outputs": [],
   "source": [
    "# I. graphic analysis \n",
    "#     looking at the stock price graph we notice that there's no seasonality but\n",
    "#     * there's an obvious TREND => we need to remove the trend\n",
    "#     * no seasonality"
   ]
  },
  {
   "cell_type": "code",
   "execution_count": 11,
   "metadata": {
    "ExecuteTime": {
     "end_time": "2020-05-30T15:07:39.522838Z",
     "start_time": "2020-05-30T15:07:39.287037Z"
    }
   },
   "outputs": [
    {
     "data": {
      "text/plain": [
       "<matplotlib.legend.Legend at 0x1a1bac6a90>"
      ]
     },
     "execution_count": 11,
     "metadata": {},
     "output_type": "execute_result"
    },
    {
     "data": {
      "image/png": "[encoded data removed]",
      "text/plain": [
       "<Figure size 1296x432 with 1 Axes>"
      ]
     },
     "metadata": {
      "needs_background": "light"
     },
     "output_type": "display_data"
    }
   ],
   "source": [
    "plt.figure(figsize=(18,6))\n",
    "plt.xlabel('Date', fontsize=18)\n",
    "plt.ylabel('Closing Price', fontsize=18)\n",
    "plt.plot(netflix_stocks_indexed[['Close']], label = 'Netflix Closing Price')\n",
    "plt.legend(loc=4, prop={'size': 18})"
   ]
  },
  {
   "cell_type": "code",
   "execution_count": 12,
   "metadata": {
    "ExecuteTime": {
     "end_time": "2020-05-30T15:07:39.768923Z",
     "start_time": "2020-05-30T15:07:39.525453Z"
    }
   },
   "outputs": [
    {
     "data": {
      "text/plain": [
       "<matplotlib.legend.Legend at 0x1a1bb43a10>"
      ]
     },
     "execution_count": 12,
     "metadata": {},
     "output_type": "execute_result"
    },
    {
     "data": {
      "image/png": "[encoded data removed]",
      "text/plain": [
       "<Figure size 1296x432 with 1 Axes>"
      ]
     },
     "metadata": {
      "needs_background": "light"
     },
     "output_type": "display_data"
    }
   ],
   "source": [
    "plt.figure(figsize=(18,6))\n",
    "plt.xlabel('Date', fontsize=18)\n",
    "plt.ylabel('Closing Price', fontsize=18)\n",
    "plt.scatter(netflix_closing_df['Date'], netflix_closing_df['Close'] ,label = 'Netflix Closing Price - scatterplot')\n",
    "plt.legend(loc=2, prop={'size': 16})"
   ]
  },
  {
   "cell_type": "markdown",
   "metadata": {},
   "source": [
    "### White Noise?"
   ]
  },
  {
   "cell_type": "code",
   "execution_count": 13,
   "metadata": {
    "ExecuteTime": {
     "end_time": "2020-05-30T15:07:40.437177Z",
     "start_time": "2020-05-30T15:07:40.410365Z"
    }
   },
   "outputs": [],
   "source": [
    "## not really -> the mean is not even close to 0 \n",
    "## MEAN\n",
    "netflix_closing_mean = netflix_closing_df.mean()"
   ]
  },
  {
   "cell_type": "code",
   "execution_count": 14,
   "metadata": {
    "ExecuteTime": {
     "end_time": "2020-05-30T15:07:40.603451Z",
     "start_time": "2020-05-30T15:07:40.599276Z"
    }
   },
   "outputs": [
    {
     "name": "stdout",
     "output_type": "stream",
     "text": [
      "Netflix stock prices have a mean of Close    74.185514\n",
      "dtype: float64\n"
     ]
    }
   ],
   "source": [
    "print(\"Netflix stock prices have a mean of {}\".format(netflix_closing_mean))"
   ]
  },
  {
   "cell_type": "markdown",
   "metadata": {},
   "source": [
    "### Correlation"
   ]
  },
  {
   "cell_type": "code",
   "execution_count": 15,
   "metadata": {
    "ExecuteTime": {
     "end_time": "2020-05-30T15:07:41.441320Z",
     "start_time": "2020-05-30T15:07:41.432625Z"
    }
   },
   "outputs": [
    {
     "name": "stdout",
     "output_type": "stream",
     "text": [
      "4536\n",
      "4536\n"
     ]
    },
    {
     "data": {
      "text/plain": [
       "array([[1.        , 0.79367761],\n",
       "       [0.79367761, 1.        ]])"
      ]
     },
     "execution_count": 15,
     "metadata": {},
     "output_type": "execute_result"
    }
   ],
   "source": [
    "days = np.arange(len(netflix_closing_df['Date']))\n",
    "print(len(days))\n",
    "print(len(netflix_closing_df['Close']))\n",
    "np.corrcoef(netflix_closing_df['Close'], days)"
   ]
  },
  {
   "cell_type": "markdown",
   "metadata": {},
   "source": [
    "### Autocorrelation / correlogram"
   ]
  },
  {
   "cell_type": "code",
   "execution_count": 16,
   "metadata": {
    "ExecuteTime": {
     "end_time": "2020-05-30T15:07:41.803667Z",
     "start_time": "2020-05-30T15:07:41.800169Z"
    }
   },
   "outputs": [
    {
     "name": "stdout",
     "output_type": "stream",
     "text": [
      "4536\n"
     ]
    }
   ],
   "source": [
    "days = np.arange(len(netflix_closing_df['Date']))\n",
    "print(len(days))"
   ]
  },
  {
   "cell_type": "code",
   "execution_count": 17,
   "metadata": {
    "ExecuteTime": {
     "end_time": "2020-05-30T15:07:41.974545Z",
     "start_time": "2020-05-30T15:07:41.970936Z"
    }
   },
   "outputs": [],
   "source": [
    "shift = 1\n",
    "\n",
    "initial_closing_price           = netflix_closing_df['Close'][shift:]\n",
    "initial_closing_price_minus_1   = netflix_closing_df['Close'][:-shift]"
   ]
  },
  {
   "cell_type": "code",
   "execution_count": 18,
   "metadata": {
    "ExecuteTime": {
     "end_time": "2020-05-30T15:07:42.142200Z",
     "start_time": "2020-05-30T15:07:42.137199Z"
    }
   },
   "outputs": [
    {
     "data": {
      "text/plain": [
       "0         1.196429\n",
       "1         1.210000\n",
       "2         1.157143\n",
       "3         1.103571\n",
       "4         1.071429\n",
       "           ...    \n",
       "4530    436.250000\n",
       "4531    429.320007\n",
       "4532    414.769989\n",
       "4533    419.890015\n",
       "4534    413.440002\n",
       "Name: Close, Length: 4535, dtype: float64"
      ]
     },
     "execution_count": 18,
     "metadata": {},
     "output_type": "execute_result"
    }
   ],
   "source": [
    "initial_closing_price.to_numpy()\n",
    "initial_closing_price_minus_1"
   ]
  },
  {
   "cell_type": "code",
   "execution_count": null,
   "metadata": {},
   "outputs": [],
   "source": [
    "plt.figure(figsize=(18,6))"
   ]
  },
  {
   "cell_type": "code",
   "execution_count": 19,
   "metadata": {
    "ExecuteTime": {
     "end_time": "2020-05-30T15:07:42.838361Z",
     "start_time": "2020-05-30T15:07:42.284141Z"
    }
   },
   "outputs": [
    {
     "data": {
      "text/plain": [
       "<matplotlib.axes._subplots.AxesSubplot at 0x1a1a928710>"
      ]
     },
     "execution_count": 19,
     "metadata": {},
     "output_type": "execute_result"
    },
    {
     "data": {
      "image/png": "[encoded data removed]",
      "text/plain": [
       "<Figure size 1296x432 with 1 Axes>"
      ]
     },
     "metadata": {
      "needs_background": "light"
     },
     "output_type": "display_data"
    }
   ],
   "source": [
    "plt.figure(figsize=(18,6))\n",
    "autocorrelation_plot(netflix_stocks_indexed)"
   ]
  },
  {
   "cell_type": "code",
   "execution_count": 20,
   "metadata": {
    "ExecuteTime": {
     "end_time": "2020-05-30T15:07:42.842340Z",
     "start_time": "2020-05-30T15:07:42.840339Z"
    }
   },
   "outputs": [],
   "source": [
    "# max_shifts = 4000\n",
    "\n",
    "# autocorrelation_values = []\n",
    "# for x in range(1, max_shifts):\n",
    "#     a = netflix_closing_df['Close'][:-x]\n",
    "#     b = netflix_closing_df['Close'][x:]\n",
    "#     corr = np.corrcoef(a, b)[0, 1]\n",
    "#     autocorrelation_values.append(corr)"
   ]
  },
  {
   "cell_type": "code",
   "execution_count": 21,
   "metadata": {
    "ExecuteTime": {
     "end_time": "2020-05-30T15:07:42.846550Z",
     "start_time": "2020-05-30T15:07:42.844673Z"
    }
   },
   "outputs": [],
   "source": [
    "# plt.figure(figsize=(18,6))\n",
    "# plt.plot(autocorrelation_values)"
   ]
  },
  {
   "cell_type": "code",
   "execution_count": 22,
   "metadata": {
    "ExecuteTime": {
     "end_time": "2020-05-30T15:07:43.059859Z",
     "start_time": "2020-05-30T15:07:42.848436Z"
    }
   },
   "outputs": [
    {
     "ename": "NameError",
     "evalue": "name 'max_shifts' is not defined",
     "output_type": "error",
     "traceback": [
      "\u001b[0;31m---------------------------------------------------------------------------\u001b[0m",
      "\u001b[0;31mNameError\u001b[0m                                 Traceback (most recent call last)",
      "\u001b[0;32m<ipython-input-22-6afed9bc4d90>\u001b[0m in \u001b[0;36m<module>\u001b[0;34m\u001b[0m\n\u001b[1;32m      1\u001b[0m \u001b[0mplt\u001b[0m\u001b[0;34m.\u001b[0m\u001b[0mfigure\u001b[0m\u001b[0;34m(\u001b[0m\u001b[0mfigsize\u001b[0m\u001b[0;34m=\u001b[0m\u001b[0;34m(\u001b[0m\u001b[0;36m18\u001b[0m\u001b[0;34m,\u001b[0m\u001b[0;36m6\u001b[0m\u001b[0;34m)\u001b[0m\u001b[0;34m)\u001b[0m\u001b[0;34m\u001b[0m\u001b[0;34m\u001b[0m\u001b[0m\n\u001b[0;32m----> 2\u001b[0;31m \u001b[0macorr_plot\u001b[0m \u001b[0;34m=\u001b[0m \u001b[0mplt\u001b[0m\u001b[0;34m.\u001b[0m\u001b[0macorr\u001b[0m\u001b[0;34m(\u001b[0m\u001b[0mnetflix_stocks_indexed\u001b[0m\u001b[0;34m[\u001b[0m\u001b[0;34m'Close'\u001b[0m\u001b[0;34m]\u001b[0m\u001b[0;34m,\u001b[0m \u001b[0mmaxlags\u001b[0m \u001b[0;34m=\u001b[0m \u001b[0mmax_shifts\u001b[0m\u001b[0;34m)\u001b[0m\u001b[0;34m\u001b[0m\u001b[0;34m\u001b[0m\u001b[0m\n\u001b[0m",
      "\u001b[0;31mNameError\u001b[0m: name 'max_shifts' is not defined"
     ]
    },
    {
     "data": {
      "text/plain": [
       "<Figure size 1296x432 with 0 Axes>"
      ]
     },
     "metadata": {},
     "output_type": "display_data"
    }
   ],
   "source": [
    "plt.figure(figsize=(18,6))\n",
    "acorr_plot = plt.acorr(netflix_stocks_indexed['Close'], maxlags = max_shifts)"
   ]
  },
  {
   "cell_type": "code",
   "execution_count": null,
   "metadata": {
    "ExecuteTime": {
     "end_time": "2020-05-30T15:07:43.062058Z",
     "start_time": "2020-05-30T15:07:43.007Z"
    }
   },
   "outputs": [],
   "source": [
    "# looking at the correlation graphics it's obvious that the DS is not a white-noise\n",
    "# also it's decreasing -> which is what we want and what is obvious"
   ]
  },
  {
   "cell_type": "markdown",
   "metadata": {},
   "source": [
    "### Partial autocorrelation"
   ]
  },
  {
   "cell_type": "code",
   "execution_count": 23,
   "metadata": {
    "ExecuteTime": {
     "end_time": "2020-05-30T15:07:43.369428Z",
     "start_time": "2020-05-30T15:07:43.363152Z"
    }
   },
   "outputs": [
    {
     "data": {
      "text/plain": [
       "0         1.196429\n",
       "1         1.210000\n",
       "2         1.157143\n",
       "3         1.103571\n",
       "4         1.071429\n",
       "           ...    \n",
       "4531    429.320007\n",
       "4532    414.769989\n",
       "4533    419.890015\n",
       "4534    413.440002\n",
       "4535    419.730011\n",
       "Name: Close, Length: 4536, dtype: float64"
      ]
     },
     "execution_count": 23,
     "metadata": {},
     "output_type": "execute_result"
    }
   ],
   "source": [
    "netflix_stocks['Close']"
   ]
  },
  {
   "cell_type": "code",
   "execution_count": 29,
   "metadata": {
    "ExecuteTime": {
     "end_time": "2020-05-30T15:16:07.063711Z",
     "start_time": "2020-05-30T15:16:06.882820Z"
    }
   },
   "outputs": [
    {
     "data": {
      "text/plain": [
       "<Figure size 1296x432 with 0 Axes>"
      ]
     },
     "metadata": {},
     "output_type": "display_data"
    },
    {
     "data": {
      "image/png": "[encoded data removed]",
      "text/plain": [
       "<Figure size 432x288 with 1 Axes>"
      ]
     },
     "metadata": {
      "needs_background": "light"
     },
     "output_type": "display_data"
    }
   ],
   "source": [
    "#plt.figure(figsize=(18,6))\n",
    "#plt.figure(figsize=(18,6))\n",
    "trash_var = plot_pacf(netflix_stocks['Close'], lags=50)"
   ]
  },
  {
   "cell_type": "code",
   "execution_count": null,
   "metadata": {},
   "outputs": [],
   "source": []
  },
  {
   "cell_type": "code",
   "execution_count": null,
   "metadata": {},
   "outputs": [],
   "source": []
  },
  {
   "cell_type": "markdown",
   "metadata": {},
   "source": [
    "### Removing Trend from the ds"
   ]
  },
  {
   "cell_type": "code",
   "execution_count": null,
   "metadata": {
    "ExecuteTime": {
     "end_time": "2020-05-30T14:59:44.750509Z",
     "start_time": "2020-05-30T14:59:44.748309Z"
    }
   },
   "outputs": [],
   "source": [
    "# we don't have seasonality, just a trend so we need to remove it and\n",
    "# transform our dataset into a trend-stationarity ds"
   ]
  },
  {
   "cell_type": "code",
   "execution_count": null,
   "metadata": {
    "ExecuteTime": {
     "end_time": "2020-05-30T14:59:44.756307Z",
     "start_time": "2020-05-30T14:59:44.752818Z"
    }
   },
   "outputs": [],
   "source": [
    "z = netflix_stocks_indexed.copy()"
   ]
  },
  {
   "cell_type": "code",
   "execution_count": null,
   "metadata": {
    "ExecuteTime": {
     "end_time": "2020-05-30T14:59:44.763545Z",
     "start_time": "2020-05-30T14:59:44.758012Z"
    }
   },
   "outputs": [],
   "source": [
    "z['Close']"
   ]
  },
  {
   "cell_type": "code",
   "execution_count": null,
   "metadata": {
    "ExecuteTime": {
     "end_time": "2020-05-30T14:59:44.777847Z",
     "start_time": "2020-05-30T14:59:44.765179Z"
    }
   },
   "outputs": [],
   "source": [
    "netflix_indexed_differentiated_close = z['Close'] - z['Close'].shift()"
   ]
  },
  {
   "cell_type": "code",
   "execution_count": null,
   "metadata": {
    "ExecuteTime": {
     "end_time": "2020-05-30T14:59:44.784470Z",
     "start_time": "2020-05-30T14:59:44.779354Z"
    }
   },
   "outputs": [],
   "source": [
    "netflix_indexed_differentiated_close = netflix_indexed_differentiated_close[1:]\n",
    "netflix_indexed_differentiated_close"
   ]
  },
  {
   "cell_type": "code",
   "execution_count": null,
   "metadata": {
    "ExecuteTime": {
     "end_time": "2020-05-30T14:59:45.033659Z",
     "start_time": "2020-05-30T14:59:44.786382Z"
    }
   },
   "outputs": [],
   "source": [
    "plt.figure(figsize=(18,6))\n",
    "plt.plot(netflix_indexed_differentiated_close)"
   ]
  },
  {
   "cell_type": "code",
   "execution_count": null,
   "metadata": {
    "ExecuteTime": {
     "end_time": "2020-05-30T14:59:45.045929Z",
     "start_time": "2020-05-30T14:59:45.036214Z"
    }
   },
   "outputs": [],
   "source": [
    "# Here the null hypothesis is that the TS is non-stationary. \n",
    "# The test results comprise of a Test Statistic and some Critical Values for difference confidence levels. \n",
    "# If the ‘Test Statistic’ is less than the ‘Critical Value’, we can reject the null hypothesis and say that \n",
    "# the series is stationary.\n",
    "\n",
    "def isStationary(data):\n",
    "    result = adfuller(data)\n",
    "    print('ADF Statistic: %f' % result[0])\n",
    "    print('p-value: %f' % result[1])\n",
    "    print('Critical Values:')\n",
    "    for key, value in result[4].items():\n",
    "        print('\\t%s: %.3f' % (key, value))\n",
    "        \n",
    "    for key, value in result[4].items():\n",
    "        if result[0] > value:\n",
    "            print(\"The graph is non stationery\")\n",
    "            break\n",
    "        else:\n",
    "            print(\"The graph is stationery\")\n",
    "            break;\n",
    "        print('Critical values:')\n",
    "        for key,value in result[4].items():\n",
    "            print('\\t%s: %.3f' % (key, value))"
   ]
  },
  {
   "cell_type": "code",
   "execution_count": null,
   "metadata": {
    "ExecuteTime": {
     "end_time": "2020-05-30T14:59:45.456774Z",
     "start_time": "2020-05-30T14:59:45.048361Z"
    }
   },
   "outputs": [],
   "source": [
    "# before differentiation\n",
    "isStationary(netflix_stocks_indexed['Close'])"
   ]
  },
  {
   "cell_type": "code",
   "execution_count": null,
   "metadata": {
    "ExecuteTime": {
     "end_time": "2020-05-30T14:59:45.864138Z",
     "start_time": "2020-05-30T14:59:45.460958Z"
    }
   },
   "outputs": [],
   "source": [
    "# after differentiation\n",
    "isStationary(netflix_indexed_differentiated_close)"
   ]
  },
  {
   "cell_type": "markdown",
   "metadata": {
    "ExecuteTime": {
     "end_time": "2020-05-30T08:20:28.313973Z",
     "start_time": "2020-05-30T08:20:28.307002Z"
    }
   },
   "source": [
    "### Dataframe indicators"
   ]
  },
  {
   "cell_type": "code",
   "execution_count": null,
   "metadata": {
    "ExecuteTime": {
     "end_time": "2020-05-30T14:59:45.881206Z",
     "start_time": "2020-05-30T14:59:45.867850Z"
    }
   },
   "outputs": [],
   "source": [
    "netflix_closing_df['Close'].describe()"
   ]
  },
  {
   "cell_type": "code",
   "execution_count": null,
   "metadata": {
    "ExecuteTime": {
     "end_time": "2020-05-30T14:59:45.887885Z",
     "start_time": "2020-05-30T14:59:45.884930Z"
    }
   },
   "outputs": [],
   "source": [
    "# netflix_stocks2 = pd.read_csv('https://raw.githubusercontent.com/nlucian/time-series-analysis/master/NFLX.csv', usecols=[\"Date\", \"Close\"],\n",
    "#         parse_dates=[\"Date\"], header=0,  squeeze=True,  index_col=0,)"
   ]
  },
  {
   "cell_type": "markdown",
   "metadata": {},
   "source": [
    "### Partial Autocorrelation"
   ]
  },
  {
   "cell_type": "code",
   "execution_count": null,
   "metadata": {
    "ExecuteTime": {
     "end_time": "2020-05-30T14:59:45.909249Z",
     "start_time": "2020-05-30T14:59:45.901715Z"
    }
   },
   "outputs": [],
   "source": [
    "netflix_indexed_differentiated_close"
   ]
  },
  {
   "cell_type": "markdown",
   "metadata": {},
   "source": [
    "### Stationarity double check"
   ]
  },
  {
   "cell_type": "code",
   "execution_count": null,
   "metadata": {},
   "outputs": [],
   "source": []
  },
  {
   "cell_type": "code",
   "execution_count": null,
   "metadata": {
    "ExecuteTime": {
     "end_time": "2020-05-30T14:59:45.916716Z",
     "start_time": "2020-05-30T14:59:45.913309Z"
    }
   },
   "outputs": [],
   "source": [
    "# When a time series is stationary, it can be easier to model. \n",
    "# Statistical modeling methods assume or require the time series to be stationary to be effective."
   ]
  },
  {
   "cell_type": "code",
   "execution_count": null,
   "metadata": {
    "ExecuteTime": {
     "end_time": "2020-05-30T14:59:45.924355Z",
     "start_time": "2020-05-30T14:59:45.919878Z"
    }
   },
   "outputs": [],
   "source": [
    "size = int(len(netflix_indexed_differentiated_close) / 2)\n",
    "\n",
    "print(size)"
   ]
  },
  {
   "cell_type": "code",
   "execution_count": null,
   "metadata": {
    "ExecuteTime": {
     "end_time": "2020-05-30T14:59:45.932067Z",
     "start_time": "2020-05-30T14:59:45.927466Z"
    }
   },
   "outputs": [],
   "source": [
    "split1 = netflix_indexed_differentiated_close[:size]\n",
    "split2 = netflix_indexed_differentiated_close[size:]"
   ]
  },
  {
   "cell_type": "code",
   "execution_count": null,
   "metadata": {
    "ExecuteTime": {
     "end_time": "2020-05-30T14:59:45.942806Z",
     "start_time": "2020-05-30T14:59:45.937166Z"
    }
   },
   "outputs": [],
   "source": [
    "split1.mean()"
   ]
  },
  {
   "cell_type": "code",
   "execution_count": null,
   "metadata": {
    "ExecuteTime": {
     "end_time": "2020-05-30T14:59:45.954716Z",
     "start_time": "2020-05-30T14:59:45.945993Z"
    }
   },
   "outputs": [],
   "source": [
    "split2.mean()"
   ]
  },
  {
   "cell_type": "code",
   "execution_count": null,
   "metadata": {
    "ExecuteTime": {
     "end_time": "2020-05-30T14:59:45.962340Z",
     "start_time": "2020-05-30T14:59:45.957684Z"
    }
   },
   "outputs": [],
   "source": [
    "# the dataset is clearly stationary now - we also checked after differentiation\n",
    "# if the mean is the same for two splits of the ds"
   ]
  },
  {
   "cell_type": "code",
   "execution_count": null,
   "metadata": {},
   "outputs": [],
   "source": []
  }
 ],
 "metadata": {
  "kernelspec": {
   "display_name": "Python 3",
   "language": "python",
   "name": "python3"
  },
  "language_info": {
   "codemirror_mode": {
    "name": "ipython",
    "version": 3
   },
   "file_extension": ".py",
   "mimetype": "text/x-python",
   "name": "python",
   "nbconvert_exporter": "python",
   "pygments_lexer": "ipython3",
   "version": "3.7.7"
  }
 },
 "nbformat": 4,
 "nbformat_minor": 4
}
